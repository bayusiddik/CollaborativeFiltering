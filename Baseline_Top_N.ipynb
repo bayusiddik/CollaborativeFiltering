{
  "nbformat": 4,
  "nbformat_minor": 0,
  "metadata": {
    "colab": {
      "provenance": [],
      "collapsed_sections": [
        "DBg5yZHAJxU7",
        "1WEdAQ73J4GY"
      ]
    },
    "kernelspec": {
      "name": "python3",
      "display_name": "Python 3"
    },
    "language_info": {
      "name": "python"
    },
    "accelerator": "GPU",
    "gpuClass": "standard"
  },
  "cells": [
    {
      "cell_type": "markdown",
      "source": [
        "# **Final Project Muhammad Bayu Samudra Siddik**"
      ],
      "metadata": {
        "id": "rdfbrjgxJnmV"
      }
    },
    {
      "cell_type": "markdown",
      "source": [
        "## Iteration 2 : Top N Recommendation"
      ],
      "metadata": {
        "id": "hhh5I1-uJsg3"
      }
    },
    {
      "cell_type": "markdown",
      "source": [
        "### Import Library"
      ],
      "metadata": {
        "id": "DBg5yZHAJxU7"
      }
    },
    {
      "cell_type": "code",
      "execution_count": null,
      "metadata": {
        "colab": {
          "base_uri": "https://localhost:8080/"
        },
        "id": "WIpSZlgzJRYm",
        "outputId": "bde162b4-d8f4-4707-96a4-13cbeeb3281d"
      },
      "outputs": [
        {
          "output_type": "stream",
          "name": "stdout",
          "text": [
            "Looking in indexes: https://pypi.org/simple, https://us-python.pkg.dev/colab-wheels/public/simple/\n",
            "Requirement already satisfied: surprise in /usr/local/lib/python3.8/dist-packages (0.1)\n",
            "Requirement already satisfied: scikit-surprise in /usr/local/lib/python3.8/dist-packages (from surprise) (1.1.3)\n",
            "Requirement already satisfied: numpy>=1.17.3 in /usr/local/lib/python3.8/dist-packages (from scikit-surprise->surprise) (1.21.6)\n",
            "Requirement already satisfied: scipy>=1.3.2 in /usr/local/lib/python3.8/dist-packages (from scikit-surprise->surprise) (1.7.3)\n",
            "Requirement already satisfied: joblib>=1.0.0 in /usr/local/lib/python3.8/dist-packages (from scikit-surprise->surprise) (1.2.0)\n"
          ]
        }
      ],
      "source": [
        "! pip install surprise"
      ]
    },
    {
      "cell_type": "code",
      "source": [
        "from __future__ import (absolute_import, division, print_function,\n",
        "                        unicode_literals)\n",
        "\n",
        "from surprise import dataset\n",
        "from surprise import Reader\n",
        "\n",
        "from surprise import SVD\n",
        "from surprise import SVDpp\n",
        "from surprise import NMF\n",
        "from surprise import BaselineOnly\n",
        "\n",
        "from surprise.model_selection import train_test_split\n",
        "from surprise.model_selection import cross_validate\n",
        "from surprise.model_selection import LeaveOneOut\n",
        "from surprise.model_selection import KFold\n",
        "from surprise import accuracy\n",
        "\n",
        "from collections import defaultdict\n",
        "\n",
        "import pandas as pd\n",
        "import numpy as np\n",
        "\n",
        "from collections import Counter\n",
        "from scipy import sparse"
      ],
      "metadata": {
        "id": "LNY4Q_GkJfcK"
      },
      "execution_count": null,
      "outputs": []
    },
    {
      "cell_type": "markdown",
      "source": [
        "### Load Dataset"
      ],
      "metadata": {
        "id": "1WEdAQ73J4GY"
      }
    },
    {
      "cell_type": "code",
      "source": [
        "!gdown 1Hfyy570RjBMqXM_0KrtoP6jEYd4J6uZQ"
      ],
      "metadata": {
        "colab": {
          "base_uri": "https://localhost:8080/"
        },
        "id": "jH5zr3SBLmr4",
        "outputId": "d2061608-86d6-4efe-ee2a-145cbdbf66d1"
      },
      "execution_count": null,
      "outputs": [
        {
          "output_type": "stream",
          "name": "stdout",
          "text": [
            "Downloading...\n",
            "From: https://drive.google.com/uc?id=1Hfyy570RjBMqXM_0KrtoP6jEYd4J6uZQ\n",
            "To: /content/topN.csv\n",
            "\r  0% 0.00/521k [00:00<?, ?B/s]\r100% 521k/521k [00:00<00:00, 121MB/s]\n"
          ]
        }
      ]
    },
    {
      "cell_type": "code",
      "source": [
        "topN_df = pd.read_csv('/content/topN.csv')\n",
        "\n",
        "topN_df.head()"
      ],
      "metadata": {
        "colab": {
          "base_uri": "https://localhost:8080/"
        },
        "id": "x82ALF1uLpnz",
        "outputId": "50eda697-4ec6-4c43-d9bb-2e41ba5a20f2"
      },
      "execution_count": null,
      "outputs": [
        {
          "output_type": "execute_result",
          "data": {
            "text/plain": [
              "   userID  itemID  rating\n",
              "0   79450   27890       5\n",
              "1   19656   41072       5\n",
              "2   11408   37185       5\n",
              "3  163662   72377       5\n",
              "4   16961    2555       5"
            ],
            "text/html": [
              "\n",
              "  <div id=\"df-df89db8d-d350-4627-8b9c-4f8d7c30d4b4\">\n",
              "    <div class=\"colab-df-container\">\n",
              "      <div>\n",
              "<style scoped>\n",
              "    .dataframe tbody tr th:only-of-type {\n",
              "        vertical-align: middle;\n",
              "    }\n",
              "\n",
              "    .dataframe tbody tr th {\n",
              "        vertical-align: top;\n",
              "    }\n",
              "\n",
              "    .dataframe thead th {\n",
              "        text-align: right;\n",
              "    }\n",
              "</style>\n",
              "<table border=\"1\" class=\"dataframe\">\n",
              "  <thead>\n",
              "    <tr style=\"text-align: right;\">\n",
              "      <th></th>\n",
              "      <th>userID</th>\n",
              "      <th>itemID</th>\n",
              "      <th>rating</th>\n",
              "    </tr>\n",
              "  </thead>\n",
              "  <tbody>\n",
              "    <tr>\n",
              "      <th>0</th>\n",
              "      <td>79450</td>\n",
              "      <td>27890</td>\n",
              "      <td>5</td>\n",
              "    </tr>\n",
              "    <tr>\n",
              "      <th>1</th>\n",
              "      <td>19656</td>\n",
              "      <td>41072</td>\n",
              "      <td>5</td>\n",
              "    </tr>\n",
              "    <tr>\n",
              "      <th>2</th>\n",
              "      <td>11408</td>\n",
              "      <td>37185</td>\n",
              "      <td>5</td>\n",
              "    </tr>\n",
              "    <tr>\n",
              "      <th>3</th>\n",
              "      <td>163662</td>\n",
              "      <td>72377</td>\n",
              "      <td>5</td>\n",
              "    </tr>\n",
              "    <tr>\n",
              "      <th>4</th>\n",
              "      <td>16961</td>\n",
              "      <td>2555</td>\n",
              "      <td>5</td>\n",
              "    </tr>\n",
              "  </tbody>\n",
              "</table>\n",
              "</div>\n",
              "      <button class=\"colab-df-convert\" onclick=\"convertToInteractive('df-df89db8d-d350-4627-8b9c-4f8d7c30d4b4')\"\n",
              "              title=\"Convert this dataframe to an interactive table.\"\n",
              "              style=\"display:none;\">\n",
              "        \n",
              "  <svg xmlns=\"http://www.w3.org/2000/svg\" height=\"24px\"viewBox=\"0 0 24 24\"\n",
              "       width=\"24px\">\n",
              "    <path d=\"M0 0h24v24H0V0z\" fill=\"none\"/>\n",
              "    <path d=\"M18.56 5.44l.94 2.06.94-2.06 2.06-.94-2.06-.94-.94-2.06-.94 2.06-2.06.94zm-11 1L8.5 8.5l.94-2.06 2.06-.94-2.06-.94L8.5 2.5l-.94 2.06-2.06.94zm10 10l.94 2.06.94-2.06 2.06-.94-2.06-.94-.94-2.06-.94 2.06-2.06.94z\"/><path d=\"M17.41 7.96l-1.37-1.37c-.4-.4-.92-.59-1.43-.59-.52 0-1.04.2-1.43.59L10.3 9.45l-7.72 7.72c-.78.78-.78 2.05 0 2.83L4 21.41c.39.39.9.59 1.41.59.51 0 1.02-.2 1.41-.59l7.78-7.78 2.81-2.81c.8-.78.8-2.07 0-2.86zM5.41 20L4 18.59l7.72-7.72 1.47 1.35L5.41 20z\"/>\n",
              "  </svg>\n",
              "      </button>\n",
              "      \n",
              "  <style>\n",
              "    .colab-df-container {\n",
              "      display:flex;\n",
              "      flex-wrap:wrap;\n",
              "      gap: 12px;\n",
              "    }\n",
              "\n",
              "    .colab-df-convert {\n",
              "      background-color: #E8F0FE;\n",
              "      border: none;\n",
              "      border-radius: 50%;\n",
              "      cursor: pointer;\n",
              "      display: none;\n",
              "      fill: #1967D2;\n",
              "      height: 32px;\n",
              "      padding: 0 0 0 0;\n",
              "      width: 32px;\n",
              "    }\n",
              "\n",
              "    .colab-df-convert:hover {\n",
              "      background-color: #E2EBFA;\n",
              "      box-shadow: 0px 1px 2px rgba(60, 64, 67, 0.3), 0px 1px 3px 1px rgba(60, 64, 67, 0.15);\n",
              "      fill: #174EA6;\n",
              "    }\n",
              "\n",
              "    [theme=dark] .colab-df-convert {\n",
              "      background-color: #3B4455;\n",
              "      fill: #D2E3FC;\n",
              "    }\n",
              "\n",
              "    [theme=dark] .colab-df-convert:hover {\n",
              "      background-color: #434B5C;\n",
              "      box-shadow: 0px 1px 3px 1px rgba(0, 0, 0, 0.15);\n",
              "      filter: drop-shadow(0px 1px 2px rgba(0, 0, 0, 0.3));\n",
              "      fill: #FFFFFF;\n",
              "    }\n",
              "  </style>\n",
              "\n",
              "      <script>\n",
              "        const buttonEl =\n",
              "          document.querySelector('#df-df89db8d-d350-4627-8b9c-4f8d7c30d4b4 button.colab-df-convert');\n",
              "        buttonEl.style.display =\n",
              "          google.colab.kernel.accessAllowed ? 'block' : 'none';\n",
              "\n",
              "        async function convertToInteractive(key) {\n",
              "          const element = document.querySelector('#df-df89db8d-d350-4627-8b9c-4f8d7c30d4b4');\n",
              "          const dataTable =\n",
              "            await google.colab.kernel.invokeFunction('convertToInteractive',\n",
              "                                                     [key], {});\n",
              "          if (!dataTable) return;\n",
              "\n",
              "          const docLinkHtml = 'Like what you see? Visit the ' +\n",
              "            '<a target=\"_blank\" href=https://colab.research.google.com/notebooks/data_table.ipynb>data table notebook</a>'\n",
              "            + ' to learn more about interactive tables.';\n",
              "          element.innerHTML = '';\n",
              "          dataTable['output_type'] = 'display_data';\n",
              "          await google.colab.output.renderOutput(dataTable, element);\n",
              "          const docLink = document.createElement('div');\n",
              "          docLink.innerHTML = docLinkHtml;\n",
              "          element.appendChild(docLink);\n",
              "        }\n",
              "      </script>\n",
              "    </div>\n",
              "  </div>\n",
              "  "
            ]
          },
          "metadata": {},
          "execution_count": 20
        }
      ]
    },
    {
      "cell_type": "markdown",
      "source": [
        "**Create sample data**"
      ],
      "metadata": {
        "id": "7asn8gh4RtCx"
      }
    },
    {
      "cell_type": "code",
      "source": [
        "topN_df.shape"
      ],
      "metadata": {
        "colab": {
          "base_uri": "https://localhost:8080/"
        },
        "id": "azAZscwyRefA",
        "outputId": "121060f0-0d77-46e9-ddf9-8409fd37b6c7"
      },
      "execution_count": null,
      "outputs": [
        {
          "output_type": "execute_result",
          "data": {
            "text/plain": [
              "(37000, 3)"
            ]
          },
          "metadata": {},
          "execution_count": 21
        }
      ]
    },
    {
      "cell_type": "code",
      "source": [
        "topN_df.to_csv('topN.csv', encoding='utf-8', index=False)"
      ],
      "metadata": {
        "id": "y-YLr4khoDNY"
      },
      "execution_count": null,
      "outputs": []
    },
    {
      "cell_type": "markdown",
      "source": [
        "**Check Missing Value**"
      ],
      "metadata": {
        "id": "YxP5y0CiRw1v"
      }
    },
    {
      "cell_type": "code",
      "source": [
        "topN_df.isna().sum() / len(topN_df) * 100"
      ],
      "metadata": {
        "colab": {
          "base_uri": "https://localhost:8080/"
        },
        "id": "_MjCMTokRzPG",
        "outputId": "f04561a3-60ce-44f8-8ac9-63f16169674a"
      },
      "execution_count": null,
      "outputs": [
        {
          "output_type": "execute_result",
          "data": {
            "text/plain": [
              "userID    0.0\n",
              "itemID    0.0\n",
              "rating    0.0\n",
              "dtype: float64"
            ]
          },
          "metadata": {},
          "execution_count": 23
        }
      ]
    },
    {
      "cell_type": "markdown",
      "source": [
        "**Check Unique Value**"
      ],
      "metadata": {
        "id": "MzLTjQ6wSHP8"
      }
    },
    {
      "cell_type": "code",
      "source": [
        "topN_df.nunique()"
      ],
      "metadata": {
        "colab": {
          "base_uri": "https://localhost:8080/"
        },
        "id": "OiZxQxeeSJDT",
        "outputId": "cae4c9e9-efe4-4847-da93-89046ef16aa4"
      },
      "execution_count": null,
      "outputs": [
        {
          "output_type": "execute_result",
          "data": {
            "text/plain": [
              "userID    31032\n",
              "itemID    16926\n",
              "rating        5\n",
              "dtype: int64"
            ]
          },
          "metadata": {},
          "execution_count": 24
        }
      ]
    },
    {
      "cell_type": "markdown",
      "source": [
        "### Get Start Top N Recommendation"
      ],
      "metadata": {
        "id": "LhbFv6XgSQaF"
      }
    },
    {
      "cell_type": "markdown",
      "source": [
        "**Convert Data to Reader**"
      ],
      "metadata": {
        "id": "LbNs_3x6SUOm"
      }
    },
    {
      "cell_type": "code",
      "source": [
        "from surprise import Dataset\n",
        "\n",
        "min_rating = topN_df.rating.min()\n",
        "max_rating = topN_df.rating.max()\n",
        "\n",
        "reader = Reader(rating_scale=(min_rating, max_rating))\n",
        "data = Dataset.load_from_df(topN_df[['userID', 'itemID', 'rating']], reader)"
      ],
      "metadata": {
        "id": "vZ9lTsEhSNcT"
      },
      "execution_count": null,
      "outputs": []
    },
    {
      "cell_type": "markdown",
      "source": [
        "**Split Data for 20% Data Testing**"
      ],
      "metadata": {
        "id": "x57YnZe5SaRK"
      }
    },
    {
      "cell_type": "code",
      "source": [
        "trainSet, testSet = train_test_split(data, test_size=.20, random_state=0)"
      ],
      "metadata": {
        "id": "EzJkvwPATV5A"
      },
      "execution_count": null,
      "outputs": []
    },
    {
      "cell_type": "markdown",
      "source": [
        "#### Def Top-N"
      ],
      "metadata": {
        "id": "YVPxm2MiTCVb"
      }
    },
    {
      "cell_type": "code",
      "source": [
        "def GetTopN(predictions, n=10, minimumRating=4.0):\n",
        "    topN = defaultdict(list)\n",
        "    for userID, foodID, actualRating, estimatedRating, _ in predictions:\n",
        "        if (estimatedRating >= minimumRating):\n",
        "            topN[int(userID)].append((int(foodID), estimatedRating))\n",
        "\n",
        "    for userID, ratings in topN.items():\n",
        "        ratings.sort(key=lambda x: x[1], reverse=True)\n",
        "        topN[int(userID)] = ratings[:n]\n",
        "\n",
        "    return topN"
      ],
      "metadata": {
        "id": "b3wgrBJ0TEE4"
      },
      "execution_count": null,
      "outputs": []
    },
    {
      "cell_type": "markdown",
      "source": [
        "#### Def Hit Ratio"
      ],
      "metadata": {
        "id": "AVEXDQxuVO0T"
      }
    },
    {
      "cell_type": "code",
      "source": [
        "def HitRate(topNPredicted, leftOutPredictions):\n",
        "    hits = 0\n",
        "    total = 0\n",
        "\n",
        " # For each left-out rating\n",
        "    for leftOut in leftOutPredictions:\n",
        "        userID = leftOut[0]\n",
        "        leftOutFoodID = leftOut[1]\n",
        "        # Is it in the predicted top 10 for this user?\n",
        "        hit = False\n",
        "        for foodID, predictedRating in topNPredicted[int(userID)]:\n",
        "            if (int(leftOutFoodID) == int(foodID)):\n",
        "                hit = True\n",
        "                break\n",
        "        if (hit) :\n",
        "            hits += 1\n",
        "\n",
        "        total += 1\n",
        "\n",
        "    # Compute overall precision\n",
        "    return hits/total"
      ],
      "metadata": {
        "id": "J5KnD2fFVTCL"
      },
      "execution_count": null,
      "outputs": []
    },
    {
      "cell_type": "markdown",
      "source": [
        "#### BaselineOnly"
      ],
      "metadata": {
        "id": "cpBMSvTESews"
      }
    },
    {
      "cell_type": "code",
      "source": [
        "algo = BaselineOnly()\n",
        "algo.fit(trainSet)\n",
        "predictions = algo.test(testSet)\n",
        "\n",
        "def MAE(predictions):\n",
        "        return accuracy.mae(predictions, verbose=False)\n",
        "def RMSE(predictions):\n",
        "        return accuracy.rmse(predictions, verbose=False)\n",
        "def MSE(predictions):\n",
        "        return accuracy.mse(predictions, verbose=False)\n",
        "    \n",
        "print(\"MAE: \", MAE(predictions))\n",
        "print(\"RMSE: \", RMSE(predictions))\n",
        "print(\"MSE: \", MSE(predictions))"
      ],
      "metadata": {
        "colab": {
          "base_uri": "https://localhost:8080/"
        },
        "id": "M5QFCfe5SeGP",
        "outputId": "20e88e22-1425-4b1d-b0ba-98dff2a1ae37"
      },
      "execution_count": null,
      "outputs": [
        {
          "output_type": "stream",
          "name": "stdout",
          "text": [
            "Estimating biases using als...\n",
            "MAE:  1.022801125686244\n",
            "RMSE:  1.2889753298162012\n",
            "MSE:  1.6614574008747844\n"
          ]
        }
      ]
    },
    {
      "cell_type": "code",
      "source": [
        "# LOOCV = LeaveOneOut(n_splits=1, random_state=1)\n",
        "\n",
        "# for trainSet, testSet in LOOCV.split(data):\n",
        "#     # Train model without left-out ratings\n",
        "#     algo.fit(trainSet)\n",
        "#     # Predicts ratings for left-out ratings only\n",
        "#     leftOutPredictions = algo.test(testSet)\n",
        "#     # Build predictions for all ratings not in the training set\n",
        "#     bigTestSet = trainSet.build_anti_testset()\n",
        "#     allPredictions = algo.test(bigTestSet)\n",
        "#     # Compute top 10 recs for each user\n",
        "#     topNPredictedBase = GetTopN(allPredictions, n=10)\n",
        "#     print(\"\\nHit Rate: \", HitRate(topNPredictedBase, leftOutPredictions))"
      ],
      "metadata": {
        "id": "rEzBtyeYTgwB"
      },
      "execution_count": null,
      "outputs": []
    },
    {
      "cell_type": "code",
      "source": [
        "LOOCV = LeaveOneOut(n_splits=1, random_state=1)\n",
        "\n",
        "for trainSet, testSet in LOOCV.split(data):\n",
        "    # Train model without left-out ratings\n",
        "    algo.fit(trainSet)\n",
        "    # Predicts ratings for left-out ratings only\n",
        "    leftOutPredictions = algo.test(testSet)\n",
        "    # Build predictions for all ratings not in the training set\n",
        "    bigTestSet = trainSet.build_anti_testset()\n",
        "    allPredictions = algo.test(bigTestSet)\n",
        "    # Compute top 10 recs for each user\n",
        "    topNPredictedBase10 = GetTopN(allPredictions, n=10)\n",
        "    print(\"\\nHit Rate N=10: \", HitRate(topNPredictedBase10, leftOutPredictions))\n",
        "    topNPredictedBase15 = GetTopN(allPredictions, n=15)\n",
        "    print(\"\\nHit Rate N=15: \", HitRate(topNPredictedBase15, leftOutPredictions))\n",
        "    topNPredictedBase20 = GetTopN(allPredictions, n=20)\n",
        "    print(\"\\nHit Rate N=20: \", HitRate(topNPredictedBase20, leftOutPredictions))\n",
        "    topNPredictedBase25 = GetTopN(allPredictions, n=25)\n",
        "    print(\"\\nHit Rate N=25: \", HitRate(topNPredictedBase25, leftOutPredictions))"
      ],
      "metadata": {
        "colab": {
          "base_uri": "https://localhost:8080/"
        },
        "id": "AKV7EsP_cHb7",
        "outputId": "fefd365f-d1e9-4fb5-ba91-847bc2344484"
      },
      "execution_count": null,
      "outputs": [
        {
          "output_type": "stream",
          "name": "stdout",
          "text": [
            "Estimating biases using als...\n",
            "\n",
            "Hit Rate N=10:  0.0009989688063934004\n",
            "\n",
            "Hit Rate N=15:  0.001611240010311936\n",
            "\n",
            "Hit Rate N=20:  0.001965712812580562\n",
            "\n",
            "Hit Rate N=25:  0.002320185614849188\n"
          ]
        }
      ]
    },
    {
      "cell_type": "markdown",
      "source": [
        "https://github.com/jvntra/Movie_Recommendation_System_Framework\n",
        "\n",
        "https://medium.com/@rishabhbhatia315/recommendation-system-evaluation-metrics-3f6739288870"
      ],
      "metadata": {
        "id": "xlDkxAsE71k9"
      }
    }
  ]
}