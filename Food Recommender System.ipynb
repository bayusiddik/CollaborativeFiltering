{
  "nbformat": 4,
  "nbformat_minor": 0,
  "metadata": {
    "colab": {
      "provenance": [],
      "collapsed_sections": [
        "4TXxoMWSSF1L",
        "tVclkZdcSSUI",
        "lwMLr8ECURh8",
        "ksEiUO_pTm6-",
        "eXtT6A83Utr-"
      ]
    },
    "kernelspec": {
      "name": "python3",
      "display_name": "Python 3"
    },
    "language_info": {
      "name": "python"
    },
    "gpuClass": "standard"
  },
  "cells": [
    {
      "cell_type": "markdown",
      "source": [
        "# **Final Project Muhammad Bayu Samudra Siddik**"
      ],
      "metadata": {
        "id": "VsI4YSWyRyxR"
      }
    },
    {
      "cell_type": "markdown",
      "source": [
        "### Import Library"
      ],
      "metadata": {
        "id": "4TXxoMWSSF1L"
      }
    },
    {
      "cell_type": "code",
      "source": [
        "! pip install surprise\n",
        "! pip install opendatasets"
      ],
      "metadata": {
        "colab": {
          "base_uri": "https://localhost:8080/"
        },
        "id": "phMSlutTSJFp",
        "outputId": "b8ba7122-c1fb-4d73-870f-63d241fda5e7"
      },
      "execution_count": null,
      "outputs": [
        {
          "output_type": "stream",
          "name": "stdout",
          "text": [
            "Looking in indexes: https://pypi.org/simple, https://us-python.pkg.dev/colab-wheels/public/simple/\n",
            "Collecting surprise\n",
            "  Downloading surprise-0.1-py2.py3-none-any.whl (1.8 kB)\n",
            "Collecting scikit-surprise\n",
            "  Downloading scikit-surprise-1.1.3.tar.gz (771 kB)\n",
            "\u001b[2K     \u001b[90m━━━━━━━━━━━━━━━━━━━━━━━━━━━━━━━━━━━━━━\u001b[0m \u001b[32m772.0/772.0 KB\u001b[0m \u001b[31m11.3 MB/s\u001b[0m eta \u001b[36m0:00:00\u001b[0m\n",
            "\u001b[?25h  Preparing metadata (setup.py) ... \u001b[?25l\u001b[?25hdone\n",
            "Requirement already satisfied: joblib>=1.0.0 in /usr/local/lib/python3.8/dist-packages (from scikit-surprise->surprise) (1.2.0)\n",
            "Requirement already satisfied: numpy>=1.17.3 in /usr/local/lib/python3.8/dist-packages (from scikit-surprise->surprise) (1.22.4)\n",
            "Requirement already satisfied: scipy>=1.3.2 in /usr/local/lib/python3.8/dist-packages (from scikit-surprise->surprise) (1.10.1)\n",
            "Building wheels for collected packages: scikit-surprise\n",
            "  Building wheel for scikit-surprise (setup.py) ... \u001b[?25l\u001b[?25hdone\n",
            "  Created wheel for scikit-surprise: filename=scikit_surprise-1.1.3-cp38-cp38-linux_x86_64.whl size=3366570 sha256=08a9bd9570450eed45833d577d393346fa1e16166ddd50bd76dc6b5190fcffab\n",
            "  Stored in directory: /root/.cache/pip/wheels/af/db/86/2c18183a80ba05da35bf0fb7417aac5cddbd93bcb1b92fd3ea\n",
            "Successfully built scikit-surprise\n",
            "Installing collected packages: scikit-surprise, surprise\n",
            "Successfully installed scikit-surprise-1.1.3 surprise-0.1\n",
            "Looking in indexes: https://pypi.org/simple, https://us-python.pkg.dev/colab-wheels/public/simple/\n",
            "Collecting opendatasets\n",
            "  Downloading opendatasets-0.1.22-py3-none-any.whl (15 kB)\n",
            "Requirement already satisfied: click in /usr/local/lib/python3.8/dist-packages (from opendatasets) (8.1.3)\n",
            "Requirement already satisfied: kaggle in /usr/local/lib/python3.8/dist-packages (from opendatasets) (1.5.12)\n",
            "Requirement already satisfied: tqdm in /usr/local/lib/python3.8/dist-packages (from opendatasets) (4.64.1)\n",
            "Requirement already satisfied: python-dateutil in /usr/local/lib/python3.8/dist-packages (from kaggle->opendatasets) (2.8.2)\n",
            "Requirement already satisfied: requests in /usr/local/lib/python3.8/dist-packages (from kaggle->opendatasets) (2.25.1)\n",
            "Requirement already satisfied: certifi in /usr/local/lib/python3.8/dist-packages (from kaggle->opendatasets) (2022.12.7)\n",
            "Requirement already satisfied: six>=1.10 in /usr/local/lib/python3.8/dist-packages (from kaggle->opendatasets) (1.15.0)\n",
            "Requirement already satisfied: urllib3 in /usr/local/lib/python3.8/dist-packages (from kaggle->opendatasets) (1.26.14)\n",
            "Requirement already satisfied: python-slugify in /usr/local/lib/python3.8/dist-packages (from kaggle->opendatasets) (8.0.1)\n",
            "Requirement already satisfied: text-unidecode>=1.3 in /usr/local/lib/python3.8/dist-packages (from python-slugify->kaggle->opendatasets) (1.3)\n",
            "Requirement already satisfied: idna<3,>=2.5 in /usr/local/lib/python3.8/dist-packages (from requests->kaggle->opendatasets) (2.10)\n",
            "Requirement already satisfied: chardet<5,>=3.0.2 in /usr/local/lib/python3.8/dist-packages (from requests->kaggle->opendatasets) (4.0.0)\n",
            "Installing collected packages: opendatasets\n",
            "Successfully installed opendatasets-0.1.22\n"
          ]
        }
      ]
    },
    {
      "cell_type": "code",
      "source": [
        "from __future__ import (absolute_import, division, print_function,\n",
        "                        unicode_literals)\n",
        "\n",
        "from surprise import dataset\n",
        "from surprise import Reader\n",
        "\n",
        "from surprise import SVD\n",
        "from surprise import SVDpp\n",
        "from surprise import NMF\n",
        "from surprise import BaselineOnly\n",
        "\n",
        "from surprise.model_selection import train_test_split\n",
        "from surprise.model_selection import cross_validate\n",
        "from surprise.model_selection import LeaveOneOut\n",
        "from surprise.model_selection import KFold\n",
        "from surprise import accuracy\n",
        "\n",
        "from collections import defaultdict\n",
        "\n",
        "import pandas as pd\n",
        "import numpy as np\n",
        "import opendatasets as od\n",
        "\n",
        "from collections import Counter\n",
        "from scipy import sparse"
      ],
      "metadata": {
        "id": "as0F1ZgGSUgI"
      },
      "execution_count": null,
      "outputs": []
    },
    {
      "cell_type": "markdown",
      "source": [
        "### Load Dataset"
      ],
      "metadata": {
        "id": "tVclkZdcSSUI"
      }
    },
    {
      "cell_type": "code",
      "source": [
        "od.download(\"https://www.kaggle.com/datasets/snap/amazon-fine-food-reviews\")"
      ],
      "metadata": {
        "id": "CPpObFRISz2e",
        "colab": {
          "base_uri": "https://localhost:8080/"
        },
        "outputId": "6a3ff288-c98f-489f-9a4c-94113b82be8e"
      },
      "execution_count": null,
      "outputs": [
        {
          "output_type": "stream",
          "name": "stdout",
          "text": [
            "Please provide your Kaggle credentials to download this dataset. Learn more: http://bit.ly/kaggle-creds\n",
            "Your Kaggle username: bayusiddik\n",
            "Your Kaggle Key: ··········\n",
            "Downloading amazon-fine-food-reviews.zip to ./amazon-fine-food-reviews\n"
          ]
        },
        {
          "output_type": "stream",
          "name": "stderr",
          "text": [
            "100%|██████████| 242M/242M [00:01<00:00, 155MB/s]\n"
          ]
        },
        {
          "output_type": "stream",
          "name": "stdout",
          "text": [
            "\n"
          ]
        }
      ]
    },
    {
      "cell_type": "code",
      "source": [
        "file =('amazon-fine-food-reviews/\\\n",
        "Reviews.csv')\n",
        "df = pd.read_csv(file)\n",
        "  \n",
        "df.head()"
      ],
      "metadata": {
        "id": "maGNzBI3S3B0",
        "colab": {
          "base_uri": "https://localhost:8080/",
          "height": 319
        },
        "outputId": "a2ba1a16-804c-4a99-94db-b2e00a8549cd"
      },
      "execution_count": null,
      "outputs": [
        {
          "output_type": "execute_result",
          "data": {
            "text/plain": [
              "   Id   ProductId          UserId                      ProfileName  \\\n",
              "0   1  B001E4KFG0  A3SGXH7AUHU8GW                       delmartian   \n",
              "1   2  B00813GRG4  A1D87F6ZCVE5NK                           dll pa   \n",
              "2   3  B000LQOCH0   ABXLMWJIXXAIN  Natalia Corres \"Natalia Corres\"   \n",
              "3   4  B000UA0QIQ  A395BORC6FGVXV                             Karl   \n",
              "4   5  B006K2ZZ7K  A1UQRSCLF8GW1T    Michael D. Bigham \"M. Wassir\"   \n",
              "\n",
              "   HelpfulnessNumerator  HelpfulnessDenominator  Score        Time  \\\n",
              "0                     1                       1      5  1303862400   \n",
              "1                     0                       0      1  1346976000   \n",
              "2                     1                       1      4  1219017600   \n",
              "3                     3                       3      2  1307923200   \n",
              "4                     0                       0      5  1350777600   \n",
              "\n",
              "                 Summary                                               Text  \n",
              "0  Good Quality Dog Food  I have bought several of the Vitality canned d...  \n",
              "1      Not as Advertised  Product arrived labeled as Jumbo Salted Peanut...  \n",
              "2  \"Delight\" says it all  This is a confection that has been around a fe...  \n",
              "3         Cough Medicine  If you are looking for the secret ingredient i...  \n",
              "4            Great taffy  Great taffy at a great price.  There was a wid...  "
            ],
            "text/html": [
              "\n",
              "  <div id=\"df-ba7f9caf-d958-457d-9788-ba6eddcbe886\">\n",
              "    <div class=\"colab-df-container\">\n",
              "      <div>\n",
              "<style scoped>\n",
              "    .dataframe tbody tr th:only-of-type {\n",
              "        vertical-align: middle;\n",
              "    }\n",
              "\n",
              "    .dataframe tbody tr th {\n",
              "        vertical-align: top;\n",
              "    }\n",
              "\n",
              "    .dataframe thead th {\n",
              "        text-align: right;\n",
              "    }\n",
              "</style>\n",
              "<table border=\"1\" class=\"dataframe\">\n",
              "  <thead>\n",
              "    <tr style=\"text-align: right;\">\n",
              "      <th></th>\n",
              "      <th>Id</th>\n",
              "      <th>ProductId</th>\n",
              "      <th>UserId</th>\n",
              "      <th>ProfileName</th>\n",
              "      <th>HelpfulnessNumerator</th>\n",
              "      <th>HelpfulnessDenominator</th>\n",
              "      <th>Score</th>\n",
              "      <th>Time</th>\n",
              "      <th>Summary</th>\n",
              "      <th>Text</th>\n",
              "    </tr>\n",
              "  </thead>\n",
              "  <tbody>\n",
              "    <tr>\n",
              "      <th>0</th>\n",
              "      <td>1</td>\n",
              "      <td>B001E4KFG0</td>\n",
              "      <td>A3SGXH7AUHU8GW</td>\n",
              "      <td>delmartian</td>\n",
              "      <td>1</td>\n",
              "      <td>1</td>\n",
              "      <td>5</td>\n",
              "      <td>1303862400</td>\n",
              "      <td>Good Quality Dog Food</td>\n",
              "      <td>I have bought several of the Vitality canned d...</td>\n",
              "    </tr>\n",
              "    <tr>\n",
              "      <th>1</th>\n",
              "      <td>2</td>\n",
              "      <td>B00813GRG4</td>\n",
              "      <td>A1D87F6ZCVE5NK</td>\n",
              "      <td>dll pa</td>\n",
              "      <td>0</td>\n",
              "      <td>0</td>\n",
              "      <td>1</td>\n",
              "      <td>1346976000</td>\n",
              "      <td>Not as Advertised</td>\n",
              "      <td>Product arrived labeled as Jumbo Salted Peanut...</td>\n",
              "    </tr>\n",
              "    <tr>\n",
              "      <th>2</th>\n",
              "      <td>3</td>\n",
              "      <td>B000LQOCH0</td>\n",
              "      <td>ABXLMWJIXXAIN</td>\n",
              "      <td>Natalia Corres \"Natalia Corres\"</td>\n",
              "      <td>1</td>\n",
              "      <td>1</td>\n",
              "      <td>4</td>\n",
              "      <td>1219017600</td>\n",
              "      <td>\"Delight\" says it all</td>\n",
              "      <td>This is a confection that has been around a fe...</td>\n",
              "    </tr>\n",
              "    <tr>\n",
              "      <th>3</th>\n",
              "      <td>4</td>\n",
              "      <td>B000UA0QIQ</td>\n",
              "      <td>A395BORC6FGVXV</td>\n",
              "      <td>Karl</td>\n",
              "      <td>3</td>\n",
              "      <td>3</td>\n",
              "      <td>2</td>\n",
              "      <td>1307923200</td>\n",
              "      <td>Cough Medicine</td>\n",
              "      <td>If you are looking for the secret ingredient i...</td>\n",
              "    </tr>\n",
              "    <tr>\n",
              "      <th>4</th>\n",
              "      <td>5</td>\n",
              "      <td>B006K2ZZ7K</td>\n",
              "      <td>A1UQRSCLF8GW1T</td>\n",
              "      <td>Michael D. Bigham \"M. Wassir\"</td>\n",
              "      <td>0</td>\n",
              "      <td>0</td>\n",
              "      <td>5</td>\n",
              "      <td>1350777600</td>\n",
              "      <td>Great taffy</td>\n",
              "      <td>Great taffy at a great price.  There was a wid...</td>\n",
              "    </tr>\n",
              "  </tbody>\n",
              "</table>\n",
              "</div>\n",
              "      <button class=\"colab-df-convert\" onclick=\"convertToInteractive('df-ba7f9caf-d958-457d-9788-ba6eddcbe886')\"\n",
              "              title=\"Convert this dataframe to an interactive table.\"\n",
              "              style=\"display:none;\">\n",
              "        \n",
              "  <svg xmlns=\"http://www.w3.org/2000/svg\" height=\"24px\"viewBox=\"0 0 24 24\"\n",
              "       width=\"24px\">\n",
              "    <path d=\"M0 0h24v24H0V0z\" fill=\"none\"/>\n",
              "    <path d=\"M18.56 5.44l.94 2.06.94-2.06 2.06-.94-2.06-.94-.94-2.06-.94 2.06-2.06.94zm-11 1L8.5 8.5l.94-2.06 2.06-.94-2.06-.94L8.5 2.5l-.94 2.06-2.06.94zm10 10l.94 2.06.94-2.06 2.06-.94-2.06-.94-.94-2.06-.94 2.06-2.06.94z\"/><path d=\"M17.41 7.96l-1.37-1.37c-.4-.4-.92-.59-1.43-.59-.52 0-1.04.2-1.43.59L10.3 9.45l-7.72 7.72c-.78.78-.78 2.05 0 2.83L4 21.41c.39.39.9.59 1.41.59.51 0 1.02-.2 1.41-.59l7.78-7.78 2.81-2.81c.8-.78.8-2.07 0-2.86zM5.41 20L4 18.59l7.72-7.72 1.47 1.35L5.41 20z\"/>\n",
              "  </svg>\n",
              "      </button>\n",
              "      \n",
              "  <style>\n",
              "    .colab-df-container {\n",
              "      display:flex;\n",
              "      flex-wrap:wrap;\n",
              "      gap: 12px;\n",
              "    }\n",
              "\n",
              "    .colab-df-convert {\n",
              "      background-color: #E8F0FE;\n",
              "      border: none;\n",
              "      border-radius: 50%;\n",
              "      cursor: pointer;\n",
              "      display: none;\n",
              "      fill: #1967D2;\n",
              "      height: 32px;\n",
              "      padding: 0 0 0 0;\n",
              "      width: 32px;\n",
              "    }\n",
              "\n",
              "    .colab-df-convert:hover {\n",
              "      background-color: #E2EBFA;\n",
              "      box-shadow: 0px 1px 2px rgba(60, 64, 67, 0.3), 0px 1px 3px 1px rgba(60, 64, 67, 0.15);\n",
              "      fill: #174EA6;\n",
              "    }\n",
              "\n",
              "    [theme=dark] .colab-df-convert {\n",
              "      background-color: #3B4455;\n",
              "      fill: #D2E3FC;\n",
              "    }\n",
              "\n",
              "    [theme=dark] .colab-df-convert:hover {\n",
              "      background-color: #434B5C;\n",
              "      box-shadow: 0px 1px 3px 1px rgba(0, 0, 0, 0.15);\n",
              "      filter: drop-shadow(0px 1px 2px rgba(0, 0, 0, 0.3));\n",
              "      fill: #FFFFFF;\n",
              "    }\n",
              "  </style>\n",
              "\n",
              "      <script>\n",
              "        const buttonEl =\n",
              "          document.querySelector('#df-ba7f9caf-d958-457d-9788-ba6eddcbe886 button.colab-df-convert');\n",
              "        buttonEl.style.display =\n",
              "          google.colab.kernel.accessAllowed ? 'block' : 'none';\n",
              "\n",
              "        async function convertToInteractive(key) {\n",
              "          const element = document.querySelector('#df-ba7f9caf-d958-457d-9788-ba6eddcbe886');\n",
              "          const dataTable =\n",
              "            await google.colab.kernel.invokeFunction('convertToInteractive',\n",
              "                                                     [key], {});\n",
              "          if (!dataTable) return;\n",
              "\n",
              "          const docLinkHtml = 'Like what you see? Visit the ' +\n",
              "            '<a target=\"_blank\" href=https://colab.research.google.com/notebooks/data_table.ipynb>data table notebook</a>'\n",
              "            + ' to learn more about interactive tables.';\n",
              "          element.innerHTML = '';\n",
              "          dataTable['output_type'] = 'display_data';\n",
              "          await google.colab.output.renderOutput(dataTable, element);\n",
              "          const docLink = document.createElement('div');\n",
              "          docLink.innerHTML = docLinkHtml;\n",
              "          element.appendChild(docLink);\n",
              "        }\n",
              "      </script>\n",
              "    </div>\n",
              "  </div>\n",
              "  "
            ]
          },
          "metadata": {},
          "execution_count": 4
        }
      ]
    },
    {
      "cell_type": "code",
      "source": [
        "df.shape"
      ],
      "metadata": {
        "id": "KJfvpaAwTFM9",
        "colab": {
          "base_uri": "https://localhost:8080/"
        },
        "outputId": "b4b767fb-5420-4b3e-ea1b-82d9856a0d9d"
      },
      "execution_count": null,
      "outputs": [
        {
          "output_type": "execute_result",
          "data": {
            "text/plain": [
              "(568454, 10)"
            ]
          },
          "metadata": {},
          "execution_count": 5
        }
      ]
    },
    {
      "cell_type": "markdown",
      "source": [
        "### Preprocessing"
      ],
      "metadata": {
        "id": "xIYCyEYlTGdm"
      }
    },
    {
      "cell_type": "markdown",
      "source": [
        "#### Part 1 : Create New Data from Existing"
      ],
      "metadata": {
        "id": "lwMLr8ECURh8"
      }
    },
    {
      "cell_type": "markdown",
      "source": [
        "**Info Dataset**"
      ],
      "metadata": {
        "id": "d4JSntG_TJYo"
      }
    },
    {
      "cell_type": "code",
      "source": [
        "df.info()"
      ],
      "metadata": {
        "id": "QTKGU4MCTNq1",
        "colab": {
          "base_uri": "https://localhost:8080/"
        },
        "outputId": "46aa10fa-d371-4f03-b084-34feb59a80b4"
      },
      "execution_count": null,
      "outputs": [
        {
          "output_type": "stream",
          "name": "stdout",
          "text": [
            "<class 'pandas.core.frame.DataFrame'>\n",
            "RangeIndex: 568454 entries, 0 to 568453\n",
            "Data columns (total 10 columns):\n",
            " #   Column                  Non-Null Count   Dtype \n",
            "---  ------                  --------------   ----- \n",
            " 0   Id                      568454 non-null  int64 \n",
            " 1   ProductId               568454 non-null  object\n",
            " 2   UserId                  568454 non-null  object\n",
            " 3   ProfileName             568438 non-null  object\n",
            " 4   HelpfulnessNumerator    568454 non-null  int64 \n",
            " 5   HelpfulnessDenominator  568454 non-null  int64 \n",
            " 6   Score                   568454 non-null  int64 \n",
            " 7   Time                    568454 non-null  int64 \n",
            " 8   Summary                 568427 non-null  object\n",
            " 9   Text                    568454 non-null  object\n",
            "dtypes: int64(5), object(5)\n",
            "memory usage: 43.4+ MB\n"
          ]
        }
      ]
    },
    {
      "cell_type": "markdown",
      "source": [
        "**Create New Dataset from Existing**"
      ],
      "metadata": {
        "id": "cJiFh-AuTQeN"
      }
    },
    {
      "cell_type": "code",
      "source": [
        "new_df = df[['UserId','ProductId', 'Score']].copy()"
      ],
      "metadata": {
        "id": "getOST-tTaJl"
      },
      "execution_count": null,
      "outputs": []
    },
    {
      "cell_type": "code",
      "source": [
        "new_df.rename(columns = {'UserId':'userID', 'ProductId':'itemID', 'Score':'rating'}, inplace = True)"
      ],
      "metadata": {
        "id": "KQjtixt4Tdbg"
      },
      "execution_count": null,
      "outputs": []
    },
    {
      "cell_type": "code",
      "source": [
        "new_df.head()"
      ],
      "metadata": {
        "id": "q__o8CfCTe1Y",
        "colab": {
          "base_uri": "https://localhost:8080/"
        },
        "outputId": "7b0ee345-4dfd-4e51-aab9-71e167c3b82a"
      },
      "execution_count": null,
      "outputs": [
        {
          "output_type": "execute_result",
          "data": {
            "text/plain": [
              "           userID      itemID  rating\n",
              "0  A3SGXH7AUHU8GW  B001E4KFG0       5\n",
              "1  A1D87F6ZCVE5NK  B00813GRG4       1\n",
              "2   ABXLMWJIXXAIN  B000LQOCH0       4\n",
              "3  A395BORC6FGVXV  B000UA0QIQ       2\n",
              "4  A1UQRSCLF8GW1T  B006K2ZZ7K       5"
            ],
            "text/html": [
              "\n",
              "  <div id=\"df-26995a68-85a6-4748-9960-ab50acc2e9b3\">\n",
              "    <div class=\"colab-df-container\">\n",
              "      <div>\n",
              "<style scoped>\n",
              "    .dataframe tbody tr th:only-of-type {\n",
              "        vertical-align: middle;\n",
              "    }\n",
              "\n",
              "    .dataframe tbody tr th {\n",
              "        vertical-align: top;\n",
              "    }\n",
              "\n",
              "    .dataframe thead th {\n",
              "        text-align: right;\n",
              "    }\n",
              "</style>\n",
              "<table border=\"1\" class=\"dataframe\">\n",
              "  <thead>\n",
              "    <tr style=\"text-align: right;\">\n",
              "      <th></th>\n",
              "      <th>userID</th>\n",
              "      <th>itemID</th>\n",
              "      <th>rating</th>\n",
              "    </tr>\n",
              "  </thead>\n",
              "  <tbody>\n",
              "    <tr>\n",
              "      <th>0</th>\n",
              "      <td>A3SGXH7AUHU8GW</td>\n",
              "      <td>B001E4KFG0</td>\n",
              "      <td>5</td>\n",
              "    </tr>\n",
              "    <tr>\n",
              "      <th>1</th>\n",
              "      <td>A1D87F6ZCVE5NK</td>\n",
              "      <td>B00813GRG4</td>\n",
              "      <td>1</td>\n",
              "    </tr>\n",
              "    <tr>\n",
              "      <th>2</th>\n",
              "      <td>ABXLMWJIXXAIN</td>\n",
              "      <td>B000LQOCH0</td>\n",
              "      <td>4</td>\n",
              "    </tr>\n",
              "    <tr>\n",
              "      <th>3</th>\n",
              "      <td>A395BORC6FGVXV</td>\n",
              "      <td>B000UA0QIQ</td>\n",
              "      <td>2</td>\n",
              "    </tr>\n",
              "    <tr>\n",
              "      <th>4</th>\n",
              "      <td>A1UQRSCLF8GW1T</td>\n",
              "      <td>B006K2ZZ7K</td>\n",
              "      <td>5</td>\n",
              "    </tr>\n",
              "  </tbody>\n",
              "</table>\n",
              "</div>\n",
              "      <button class=\"colab-df-convert\" onclick=\"convertToInteractive('df-26995a68-85a6-4748-9960-ab50acc2e9b3')\"\n",
              "              title=\"Convert this dataframe to an interactive table.\"\n",
              "              style=\"display:none;\">\n",
              "        \n",
              "  <svg xmlns=\"http://www.w3.org/2000/svg\" height=\"24px\"viewBox=\"0 0 24 24\"\n",
              "       width=\"24px\">\n",
              "    <path d=\"M0 0h24v24H0V0z\" fill=\"none\"/>\n",
              "    <path d=\"M18.56 5.44l.94 2.06.94-2.06 2.06-.94-2.06-.94-.94-2.06-.94 2.06-2.06.94zm-11 1L8.5 8.5l.94-2.06 2.06-.94-2.06-.94L8.5 2.5l-.94 2.06-2.06.94zm10 10l.94 2.06.94-2.06 2.06-.94-2.06-.94-.94-2.06-.94 2.06-2.06.94z\"/><path d=\"M17.41 7.96l-1.37-1.37c-.4-.4-.92-.59-1.43-.59-.52 0-1.04.2-1.43.59L10.3 9.45l-7.72 7.72c-.78.78-.78 2.05 0 2.83L4 21.41c.39.39.9.59 1.41.59.51 0 1.02-.2 1.41-.59l7.78-7.78 2.81-2.81c.8-.78.8-2.07 0-2.86zM5.41 20L4 18.59l7.72-7.72 1.47 1.35L5.41 20z\"/>\n",
              "  </svg>\n",
              "      </button>\n",
              "      \n",
              "  <style>\n",
              "    .colab-df-container {\n",
              "      display:flex;\n",
              "      flex-wrap:wrap;\n",
              "      gap: 12px;\n",
              "    }\n",
              "\n",
              "    .colab-df-convert {\n",
              "      background-color: #E8F0FE;\n",
              "      border: none;\n",
              "      border-radius: 50%;\n",
              "      cursor: pointer;\n",
              "      display: none;\n",
              "      fill: #1967D2;\n",
              "      height: 32px;\n",
              "      padding: 0 0 0 0;\n",
              "      width: 32px;\n",
              "    }\n",
              "\n",
              "    .colab-df-convert:hover {\n",
              "      background-color: #E2EBFA;\n",
              "      box-shadow: 0px 1px 2px rgba(60, 64, 67, 0.3), 0px 1px 3px 1px rgba(60, 64, 67, 0.15);\n",
              "      fill: #174EA6;\n",
              "    }\n",
              "\n",
              "    [theme=dark] .colab-df-convert {\n",
              "      background-color: #3B4455;\n",
              "      fill: #D2E3FC;\n",
              "    }\n",
              "\n",
              "    [theme=dark] .colab-df-convert:hover {\n",
              "      background-color: #434B5C;\n",
              "      box-shadow: 0px 1px 3px 1px rgba(0, 0, 0, 0.15);\n",
              "      filter: drop-shadow(0px 1px 2px rgba(0, 0, 0, 0.3));\n",
              "      fill: #FFFFFF;\n",
              "    }\n",
              "  </style>\n",
              "\n",
              "      <script>\n",
              "        const buttonEl =\n",
              "          document.querySelector('#df-26995a68-85a6-4748-9960-ab50acc2e9b3 button.colab-df-convert');\n",
              "        buttonEl.style.display =\n",
              "          google.colab.kernel.accessAllowed ? 'block' : 'none';\n",
              "\n",
              "        async function convertToInteractive(key) {\n",
              "          const element = document.querySelector('#df-26995a68-85a6-4748-9960-ab50acc2e9b3');\n",
              "          const dataTable =\n",
              "            await google.colab.kernel.invokeFunction('convertToInteractive',\n",
              "                                                     [key], {});\n",
              "          if (!dataTable) return;\n",
              "\n",
              "          const docLinkHtml = 'Like what you see? Visit the ' +\n",
              "            '<a target=\"_blank\" href=https://colab.research.google.com/notebooks/data_table.ipynb>data table notebook</a>'\n",
              "            + ' to learn more about interactive tables.';\n",
              "          element.innerHTML = '';\n",
              "          dataTable['output_type'] = 'display_data';\n",
              "          await google.colab.output.renderOutput(dataTable, element);\n",
              "          const docLink = document.createElement('div');\n",
              "          docLink.innerHTML = docLinkHtml;\n",
              "          element.appendChild(docLink);\n",
              "        }\n",
              "      </script>\n",
              "    </div>\n",
              "  </div>\n",
              "  "
            ]
          },
          "metadata": {},
          "execution_count": 9
        }
      ]
    },
    {
      "cell_type": "markdown",
      "source": [
        "**Check Missing Value**"
      ],
      "metadata": {
        "id": "21ZxJgVOTgvL"
      }
    },
    {
      "cell_type": "code",
      "source": [
        "new_df.isna().sum() / len(new_df) * 100"
      ],
      "metadata": {
        "id": "we9-65c3Tlos",
        "colab": {
          "base_uri": "https://localhost:8080/"
        },
        "outputId": "b1f9ce48-09e3-46ba-cd27-bf9db2ec0317"
      },
      "execution_count": null,
      "outputs": [
        {
          "output_type": "execute_result",
          "data": {
            "text/plain": [
              "userID    0.0\n",
              "itemID    0.0\n",
              "rating    0.0\n",
              "dtype: float64"
            ]
          },
          "metadata": {},
          "execution_count": 10
        }
      ]
    },
    {
      "cell_type": "markdown",
      "source": [
        "#### Part 2 : Fitur Encoding"
      ],
      "metadata": {
        "id": "ksEiUO_pTm6-"
      }
    },
    {
      "cell_type": "code",
      "source": [
        "def encode_column(column):\n",
        "    keys = column.unique()\n",
        "    key_to_id = {key:idx for idx,key in enumerate(keys)}\n",
        "    return key_to_id, np.array([key_to_id[x] for x in column]), len(keys)"
      ],
      "metadata": {
        "id": "gRxGmRhtTtqK"
      },
      "execution_count": null,
      "outputs": []
    },
    {
      "cell_type": "code",
      "source": [
        "def encode_df(food_df):\n",
        "    \n",
        "    food_id, food_df['itemID'], num_food = encode_column(food_df['itemID'])\n",
        "    user_id, food_df['userID'], num_user = encode_column(food_df['userID'])\n",
        "    return food_df, num_user, num_food, user_id, food_id"
      ],
      "metadata": {
        "id": "2AAFh3JaTwE9"
      },
      "execution_count": null,
      "outputs": []
    },
    {
      "cell_type": "code",
      "source": [
        "food_df, num_user, num_food, user_id, food_id = encode_df(new_df)\n",
        "print(\"Number of users :\", num_user)\n",
        "print(\"Number of foods :\", num_food)"
      ],
      "metadata": {
        "id": "GU19WsUlT4Xu",
        "colab": {
          "base_uri": "https://localhost:8080/"
        },
        "outputId": "958fc65a-8480-4360-c9fc-4f524544e4c3"
      },
      "execution_count": null,
      "outputs": [
        {
          "output_type": "stream",
          "name": "stdout",
          "text": [
            "Number of users : 256059\n",
            "Number of foods : 74258\n"
          ]
        }
      ]
    },
    {
      "cell_type": "markdown",
      "source": [
        "**Check Missing Value Again**"
      ],
      "metadata": {
        "id": "eVvx28i7T7yo"
      }
    },
    {
      "cell_type": "code",
      "source": [
        "new_df.isna().sum() / len(new_df) * 100"
      ],
      "metadata": {
        "id": "5m2xpw_FT-15",
        "colab": {
          "base_uri": "https://localhost:8080/"
        },
        "outputId": "7d361f5e-f935-42b3-eb33-8dfd33ee3b37"
      },
      "execution_count": null,
      "outputs": [
        {
          "output_type": "execute_result",
          "data": {
            "text/plain": [
              "userID    0.0\n",
              "itemID    0.0\n",
              "rating    0.0\n",
              "dtype: float64"
            ]
          },
          "metadata": {},
          "execution_count": 14
        }
      ]
    },
    {
      "cell_type": "markdown",
      "source": [
        "**Result New Data**"
      ],
      "metadata": {
        "id": "MZ22VNUoUCBN"
      }
    },
    {
      "cell_type": "code",
      "source": [
        "food_df"
      ],
      "metadata": {
        "id": "UoiaDGQnUFf5",
        "colab": {
          "base_uri": "https://localhost:8080/"
        },
        "outputId": "1551575f-6d8c-4672-ffee-2b0b74133cd6"
      },
      "execution_count": null,
      "outputs": [
        {
          "output_type": "execute_result",
          "data": {
            "text/plain": [
              "        userID  itemID  rating\n",
              "0            0       0       5\n",
              "1            1       1       1\n",
              "2            2       2       4\n",
              "3            3       3       2\n",
              "4            4       4       5\n",
              "...        ...     ...     ...\n",
              "568449  256056   74254       5\n",
              "568450   29529   74255       2\n",
              "568451  256057   74256       5\n",
              "568452  163453   74256       5\n",
              "568453  256058   74257       5\n",
              "\n",
              "[568454 rows x 3 columns]"
            ],
            "text/html": [
              "\n",
              "  <div id=\"df-46196f90-e088-4d9f-90b0-ed951936e11e\">\n",
              "    <div class=\"colab-df-container\">\n",
              "      <div>\n",
              "<style scoped>\n",
              "    .dataframe tbody tr th:only-of-type {\n",
              "        vertical-align: middle;\n",
              "    }\n",
              "\n",
              "    .dataframe tbody tr th {\n",
              "        vertical-align: top;\n",
              "    }\n",
              "\n",
              "    .dataframe thead th {\n",
              "        text-align: right;\n",
              "    }\n",
              "</style>\n",
              "<table border=\"1\" class=\"dataframe\">\n",
              "  <thead>\n",
              "    <tr style=\"text-align: right;\">\n",
              "      <th></th>\n",
              "      <th>userID</th>\n",
              "      <th>itemID</th>\n",
              "      <th>rating</th>\n",
              "    </tr>\n",
              "  </thead>\n",
              "  <tbody>\n",
              "    <tr>\n",
              "      <th>0</th>\n",
              "      <td>0</td>\n",
              "      <td>0</td>\n",
              "      <td>5</td>\n",
              "    </tr>\n",
              "    <tr>\n",
              "      <th>1</th>\n",
              "      <td>1</td>\n",
              "      <td>1</td>\n",
              "      <td>1</td>\n",
              "    </tr>\n",
              "    <tr>\n",
              "      <th>2</th>\n",
              "      <td>2</td>\n",
              "      <td>2</td>\n",
              "      <td>4</td>\n",
              "    </tr>\n",
              "    <tr>\n",
              "      <th>3</th>\n",
              "      <td>3</td>\n",
              "      <td>3</td>\n",
              "      <td>2</td>\n",
              "    </tr>\n",
              "    <tr>\n",
              "      <th>4</th>\n",
              "      <td>4</td>\n",
              "      <td>4</td>\n",
              "      <td>5</td>\n",
              "    </tr>\n",
              "    <tr>\n",
              "      <th>...</th>\n",
              "      <td>...</td>\n",
              "      <td>...</td>\n",
              "      <td>...</td>\n",
              "    </tr>\n",
              "    <tr>\n",
              "      <th>568449</th>\n",
              "      <td>256056</td>\n",
              "      <td>74254</td>\n",
              "      <td>5</td>\n",
              "    </tr>\n",
              "    <tr>\n",
              "      <th>568450</th>\n",
              "      <td>29529</td>\n",
              "      <td>74255</td>\n",
              "      <td>2</td>\n",
              "    </tr>\n",
              "    <tr>\n",
              "      <th>568451</th>\n",
              "      <td>256057</td>\n",
              "      <td>74256</td>\n",
              "      <td>5</td>\n",
              "    </tr>\n",
              "    <tr>\n",
              "      <th>568452</th>\n",
              "      <td>163453</td>\n",
              "      <td>74256</td>\n",
              "      <td>5</td>\n",
              "    </tr>\n",
              "    <tr>\n",
              "      <th>568453</th>\n",
              "      <td>256058</td>\n",
              "      <td>74257</td>\n",
              "      <td>5</td>\n",
              "    </tr>\n",
              "  </tbody>\n",
              "</table>\n",
              "<p>568454 rows × 3 columns</p>\n",
              "</div>\n",
              "      <button class=\"colab-df-convert\" onclick=\"convertToInteractive('df-46196f90-e088-4d9f-90b0-ed951936e11e')\"\n",
              "              title=\"Convert this dataframe to an interactive table.\"\n",
              "              style=\"display:none;\">\n",
              "        \n",
              "  <svg xmlns=\"http://www.w3.org/2000/svg\" height=\"24px\"viewBox=\"0 0 24 24\"\n",
              "       width=\"24px\">\n",
              "    <path d=\"M0 0h24v24H0V0z\" fill=\"none\"/>\n",
              "    <path d=\"M18.56 5.44l.94 2.06.94-2.06 2.06-.94-2.06-.94-.94-2.06-.94 2.06-2.06.94zm-11 1L8.5 8.5l.94-2.06 2.06-.94-2.06-.94L8.5 2.5l-.94 2.06-2.06.94zm10 10l.94 2.06.94-2.06 2.06-.94-2.06-.94-.94-2.06-.94 2.06-2.06.94z\"/><path d=\"M17.41 7.96l-1.37-1.37c-.4-.4-.92-.59-1.43-.59-.52 0-1.04.2-1.43.59L10.3 9.45l-7.72 7.72c-.78.78-.78 2.05 0 2.83L4 21.41c.39.39.9.59 1.41.59.51 0 1.02-.2 1.41-.59l7.78-7.78 2.81-2.81c.8-.78.8-2.07 0-2.86zM5.41 20L4 18.59l7.72-7.72 1.47 1.35L5.41 20z\"/>\n",
              "  </svg>\n",
              "      </button>\n",
              "      \n",
              "  <style>\n",
              "    .colab-df-container {\n",
              "      display:flex;\n",
              "      flex-wrap:wrap;\n",
              "      gap: 12px;\n",
              "    }\n",
              "\n",
              "    .colab-df-convert {\n",
              "      background-color: #E8F0FE;\n",
              "      border: none;\n",
              "      border-radius: 50%;\n",
              "      cursor: pointer;\n",
              "      display: none;\n",
              "      fill: #1967D2;\n",
              "      height: 32px;\n",
              "      padding: 0 0 0 0;\n",
              "      width: 32px;\n",
              "    }\n",
              "\n",
              "    .colab-df-convert:hover {\n",
              "      background-color: #E2EBFA;\n",
              "      box-shadow: 0px 1px 2px rgba(60, 64, 67, 0.3), 0px 1px 3px 1px rgba(60, 64, 67, 0.15);\n",
              "      fill: #174EA6;\n",
              "    }\n",
              "\n",
              "    [theme=dark] .colab-df-convert {\n",
              "      background-color: #3B4455;\n",
              "      fill: #D2E3FC;\n",
              "    }\n",
              "\n",
              "    [theme=dark] .colab-df-convert:hover {\n",
              "      background-color: #434B5C;\n",
              "      box-shadow: 0px 1px 3px 1px rgba(0, 0, 0, 0.15);\n",
              "      filter: drop-shadow(0px 1px 2px rgba(0, 0, 0, 0.3));\n",
              "      fill: #FFFFFF;\n",
              "    }\n",
              "  </style>\n",
              "\n",
              "      <script>\n",
              "        const buttonEl =\n",
              "          document.querySelector('#df-46196f90-e088-4d9f-90b0-ed951936e11e button.colab-df-convert');\n",
              "        buttonEl.style.display =\n",
              "          google.colab.kernel.accessAllowed ? 'block' : 'none';\n",
              "\n",
              "        async function convertToInteractive(key) {\n",
              "          const element = document.querySelector('#df-46196f90-e088-4d9f-90b0-ed951936e11e');\n",
              "          const dataTable =\n",
              "            await google.colab.kernel.invokeFunction('convertToInteractive',\n",
              "                                                     [key], {});\n",
              "          if (!dataTable) return;\n",
              "\n",
              "          const docLinkHtml = 'Like what you see? Visit the ' +\n",
              "            '<a target=\"_blank\" href=https://colab.research.google.com/notebooks/data_table.ipynb>data table notebook</a>'\n",
              "            + ' to learn more about interactive tables.';\n",
              "          element.innerHTML = '';\n",
              "          dataTable['output_type'] = 'display_data';\n",
              "          await google.colab.output.renderOutput(dataTable, element);\n",
              "          const docLink = document.createElement('div');\n",
              "          docLink.innerHTML = docLinkHtml;\n",
              "          element.appendChild(docLink);\n",
              "        }\n",
              "      </script>\n",
              "    </div>\n",
              "  </div>\n",
              "  "
            ]
          },
          "metadata": {},
          "execution_count": 15
        }
      ]
    },
    {
      "cell_type": "markdown",
      "source": [
        "**Info Result New Data**"
      ],
      "metadata": {
        "id": "9QUSmm0cUKIc"
      }
    },
    {
      "cell_type": "code",
      "source": [
        "food_df.info()"
      ],
      "metadata": {
        "id": "3GPcm8rEUOSt",
        "colab": {
          "base_uri": "https://localhost:8080/"
        },
        "outputId": "64fd8b65-bcc9-4d55-ca54-1654bd1fe123"
      },
      "execution_count": null,
      "outputs": [
        {
          "output_type": "stream",
          "name": "stdout",
          "text": [
            "<class 'pandas.core.frame.DataFrame'>\n",
            "RangeIndex: 568454 entries, 0 to 568453\n",
            "Data columns (total 3 columns):\n",
            " #   Column  Non-Null Count   Dtype\n",
            "---  ------  --------------   -----\n",
            " 0   userID  568454 non-null  int64\n",
            " 1   itemID  568454 non-null  int64\n",
            " 2   rating  568454 non-null  int64\n",
            "dtypes: int64(3)\n",
            "memory usage: 13.0 MB\n"
          ]
        }
      ]
    },
    {
      "cell_type": "markdown",
      "source": [
        "**Convert and Save As CSV**"
      ],
      "metadata": {
        "id": "X1ajTSKz-yii"
      }
    },
    {
      "cell_type": "code",
      "source": [
        "food_df.to_csv('food_df.csv', encoding='utf-8', index=False)"
      ],
      "metadata": {
        "id": "VTIi4C_C-xnC"
      },
      "execution_count": null,
      "outputs": []
    },
    {
      "cell_type": "markdown",
      "source": [
        "#### Part 3 : Convert to Reader"
      ],
      "metadata": {
        "id": "eXtT6A83Utr-"
      }
    },
    {
      "cell_type": "markdown",
      "source": [
        "**Count Unique Each Value**"
      ],
      "metadata": {
        "id": "6i5ojirzU4aK"
      }
    },
    {
      "cell_type": "code",
      "source": [
        "print(\"Total of unique food : \" ,food_df[\"itemID\"].nunique())\n",
        "print(\"Total of unique user : \" ,food_df[\"userID\"].nunique())\n",
        "print(\"Total of unique rating : \" ,food_df[\"rating\"].nunique())"
      ],
      "metadata": {
        "id": "7ChMKaV6U2L7",
        "colab": {
          "base_uri": "https://localhost:8080/"
        },
        "outputId": "73f791aa-6d8a-4ad6-f849-61d02e8aec85"
      },
      "execution_count": null,
      "outputs": [
        {
          "output_type": "stream",
          "name": "stdout",
          "text": [
            "Total of unique food :  74258\n",
            "Total of unique user :  256059\n",
            "Total of unique rating :  5\n"
          ]
        }
      ]
    },
    {
      "cell_type": "markdown",
      "source": [
        "**Convert to Reader Dataset**"
      ],
      "metadata": {
        "id": "9mETlp8VU-yn"
      }
    },
    {
      "cell_type": "code",
      "source": [
        "min_rating = food_df.rating.min()\n",
        "max_rating = food_df.rating.max()"
      ],
      "metadata": {
        "id": "GsaElgvWVWp-"
      },
      "execution_count": null,
      "outputs": []
    },
    {
      "cell_type": "code",
      "source": [
        "reader = Reader(line_format='user item rating', rating_scale=(min_rating, max_rating))\n",
        "\n",
        "class MyDataset(dataset.DatasetAutoFolds):\n",
        "\n",
        "    def __init__(self, df, reader):\n",
        "\n",
        "        self.raw_ratings = [(uid, iid, r, None) for (uid, iid, r) in\n",
        "                            zip(food_df['userID'], food_df['itemID'], food_df['rating'])]\n",
        "        self.reader=reader\n",
        "\n",
        "data = MyDataset(food_df, reader)"
      ],
      "metadata": {
        "id": "iy5_MZltVB_l"
      },
      "execution_count": null,
      "outputs": []
    },
    {
      "cell_type": "markdown",
      "source": [
        "### Split Data and Modeling"
      ],
      "metadata": {
        "id": "WE7ATAmXWz_O"
      }
    },
    {
      "cell_type": "markdown",
      "source": [
        "#### Part 1 : Modeling Without Cross Validation"
      ],
      "metadata": {
        "id": "keniJwsTXDa0"
      }
    },
    {
      "cell_type": "markdown",
      "source": [
        "**Split 80% data training and 20% data testing**"
      ],
      "metadata": {
        "id": "ir2bDf66Xogq"
      }
    },
    {
      "cell_type": "code",
      "source": [
        "trainset, testset = train_test_split(data, test_size=.20)\n",
        "\n",
        "algo = [SVD(), SVDpp(), NMF(), BaselineOnly()]\n",
        "benchmark = []\n",
        "MAE_listed = []\n",
        "RMSE_listed = []\n",
        "MSE_listed = []\n",
        "\n",
        "for algorithm in algo:\n",
        "    print(\"Starting:\" ,str(algorithm).split(' ')[0].split('.')[-1])\n",
        "    algorithm.fit(trainset)\n",
        "    predictions = algorithm.test(testset)\n",
        "\n",
        "    MAE_listed.append(accuracy.mae(predictions))\n",
        "    RMSE_listed.append(accuracy.rmse(predictions))\n",
        "    MSE_listed.append(accuracy.mse(predictions))\n",
        "    benchmark.append(str(algorithm).split(' ')[0].split('.')[-1])\n",
        "    print()"
      ],
      "metadata": {
        "id": "u-l90w3eXLX0",
        "colab": {
          "base_uri": "https://localhost:8080/"
        },
        "outputId": "c2b8f321-2de7-4d86-d839-757f6ca0a71d"
      },
      "execution_count": null,
      "outputs": [
        {
          "output_type": "stream",
          "name": "stdout",
          "text": [
            "Starting: SVD\n",
            "MAE:  0.7876\n",
            "RMSE: 1.0807\n",
            "MSE: 1.1679\n",
            "\n",
            "Starting: SVDpp\n",
            "MAE:  0.7517\n",
            "RMSE: 1.0588\n",
            "MSE: 1.1210\n",
            "\n",
            "Starting: NMF\n",
            "MAE:  0.8154\n",
            "RMSE: 1.1441\n",
            "MSE: 1.3090\n",
            "\n",
            "Starting: BaselineOnly\n",
            "Estimating biases using als...\n",
            "MAE:  0.9017\n",
            "RMSE: 1.1678\n",
            "MSE: 1.3638\n",
            "\n"
          ]
        }
      ]
    },
    {
      "cell_type": "markdown",
      "source": [
        "**Result**"
      ],
      "metadata": {
        "id": "WanIuJcJXiej"
      }
    },
    {
      "cell_type": "code",
      "source": [
        "eval_df = pd.DataFrame({\"Algoritma\": benchmark,\"MAE\": MAE_listed, \"RMSE\": RMSE_listed, \"MSE\": MSE_listed})\n",
        "eval_df"
      ],
      "metadata": {
        "id": "_G3a7Bl6XhgY",
        "colab": {
          "base_uri": "https://localhost:8080/",
          "height": 192
        },
        "outputId": "a6773d8f-aa81-4fa6-c58c-89f38600a80e"
      },
      "execution_count": null,
      "outputs": [
        {
          "output_type": "execute_result",
          "data": {
            "text/plain": [
              "      Algoritma       MAE      RMSE       MSE\n",
              "0           SVD  0.787561  1.080697  1.167906\n",
              "1         SVDpp  0.751728  1.058795  1.121046\n",
              "2           NMF  0.815407  1.144121  1.309014\n",
              "3  BaselineOnly  0.901687  1.167803  1.363763"
            ],
            "text/html": [
              "\n",
              "  <div id=\"df-f1fbabe6-1a3f-4867-a618-f71a033882d4\">\n",
              "    <div class=\"colab-df-container\">\n",
              "      <div>\n",
              "<style scoped>\n",
              "    .dataframe tbody tr th:only-of-type {\n",
              "        vertical-align: middle;\n",
              "    }\n",
              "\n",
              "    .dataframe tbody tr th {\n",
              "        vertical-align: top;\n",
              "    }\n",
              "\n",
              "    .dataframe thead th {\n",
              "        text-align: right;\n",
              "    }\n",
              "</style>\n",
              "<table border=\"1\" class=\"dataframe\">\n",
              "  <thead>\n",
              "    <tr style=\"text-align: right;\">\n",
              "      <th></th>\n",
              "      <th>Algoritma</th>\n",
              "      <th>MAE</th>\n",
              "      <th>RMSE</th>\n",
              "      <th>MSE</th>\n",
              "    </tr>\n",
              "  </thead>\n",
              "  <tbody>\n",
              "    <tr>\n",
              "      <th>0</th>\n",
              "      <td>SVD</td>\n",
              "      <td>0.787561</td>\n",
              "      <td>1.080697</td>\n",
              "      <td>1.167906</td>\n",
              "    </tr>\n",
              "    <tr>\n",
              "      <th>1</th>\n",
              "      <td>SVDpp</td>\n",
              "      <td>0.751728</td>\n",
              "      <td>1.058795</td>\n",
              "      <td>1.121046</td>\n",
              "    </tr>\n",
              "    <tr>\n",
              "      <th>2</th>\n",
              "      <td>NMF</td>\n",
              "      <td>0.815407</td>\n",
              "      <td>1.144121</td>\n",
              "      <td>1.309014</td>\n",
              "    </tr>\n",
              "    <tr>\n",
              "      <th>3</th>\n",
              "      <td>BaselineOnly</td>\n",
              "      <td>0.901687</td>\n",
              "      <td>1.167803</td>\n",
              "      <td>1.363763</td>\n",
              "    </tr>\n",
              "  </tbody>\n",
              "</table>\n",
              "</div>\n",
              "      <button class=\"colab-df-convert\" onclick=\"convertToInteractive('df-f1fbabe6-1a3f-4867-a618-f71a033882d4')\"\n",
              "              title=\"Convert this dataframe to an interactive table.\"\n",
              "              style=\"display:none;\">\n",
              "        \n",
              "  <svg xmlns=\"http://www.w3.org/2000/svg\" height=\"24px\"viewBox=\"0 0 24 24\"\n",
              "       width=\"24px\">\n",
              "    <path d=\"M0 0h24v24H0V0z\" fill=\"none\"/>\n",
              "    <path d=\"M18.56 5.44l.94 2.06.94-2.06 2.06-.94-2.06-.94-.94-2.06-.94 2.06-2.06.94zm-11 1L8.5 8.5l.94-2.06 2.06-.94-2.06-.94L8.5 2.5l-.94 2.06-2.06.94zm10 10l.94 2.06.94-2.06 2.06-.94-2.06-.94-.94-2.06-.94 2.06-2.06.94z\"/><path d=\"M17.41 7.96l-1.37-1.37c-.4-.4-.92-.59-1.43-.59-.52 0-1.04.2-1.43.59L10.3 9.45l-7.72 7.72c-.78.78-.78 2.05 0 2.83L4 21.41c.39.39.9.59 1.41.59.51 0 1.02-.2 1.41-.59l7.78-7.78 2.81-2.81c.8-.78.8-2.07 0-2.86zM5.41 20L4 18.59l7.72-7.72 1.47 1.35L5.41 20z\"/>\n",
              "  </svg>\n",
              "      </button>\n",
              "      \n",
              "  <style>\n",
              "    .colab-df-container {\n",
              "      display:flex;\n",
              "      flex-wrap:wrap;\n",
              "      gap: 12px;\n",
              "    }\n",
              "\n",
              "    .colab-df-convert {\n",
              "      background-color: #E8F0FE;\n",
              "      border: none;\n",
              "      border-radius: 50%;\n",
              "      cursor: pointer;\n",
              "      display: none;\n",
              "      fill: #1967D2;\n",
              "      height: 32px;\n",
              "      padding: 0 0 0 0;\n",
              "      width: 32px;\n",
              "    }\n",
              "\n",
              "    .colab-df-convert:hover {\n",
              "      background-color: #E2EBFA;\n",
              "      box-shadow: 0px 1px 2px rgba(60, 64, 67, 0.3), 0px 1px 3px 1px rgba(60, 64, 67, 0.15);\n",
              "      fill: #174EA6;\n",
              "    }\n",
              "\n",
              "    [theme=dark] .colab-df-convert {\n",
              "      background-color: #3B4455;\n",
              "      fill: #D2E3FC;\n",
              "    }\n",
              "\n",
              "    [theme=dark] .colab-df-convert:hover {\n",
              "      background-color: #434B5C;\n",
              "      box-shadow: 0px 1px 3px 1px rgba(0, 0, 0, 0.15);\n",
              "      filter: drop-shadow(0px 1px 2px rgba(0, 0, 0, 0.3));\n",
              "      fill: #FFFFFF;\n",
              "    }\n",
              "  </style>\n",
              "\n",
              "      <script>\n",
              "        const buttonEl =\n",
              "          document.querySelector('#df-f1fbabe6-1a3f-4867-a618-f71a033882d4 button.colab-df-convert');\n",
              "        buttonEl.style.display =\n",
              "          google.colab.kernel.accessAllowed ? 'block' : 'none';\n",
              "\n",
              "        async function convertToInteractive(key) {\n",
              "          const element = document.querySelector('#df-f1fbabe6-1a3f-4867-a618-f71a033882d4');\n",
              "          const dataTable =\n",
              "            await google.colab.kernel.invokeFunction('convertToInteractive',\n",
              "                                                     [key], {});\n",
              "          if (!dataTable) return;\n",
              "\n",
              "          const docLinkHtml = 'Like what you see? Visit the ' +\n",
              "            '<a target=\"_blank\" href=https://colab.research.google.com/notebooks/data_table.ipynb>data table notebook</a>'\n",
              "            + ' to learn more about interactive tables.';\n",
              "          element.innerHTML = '';\n",
              "          dataTable['output_type'] = 'display_data';\n",
              "          await google.colab.output.renderOutput(dataTable, element);\n",
              "          const docLink = document.createElement('div');\n",
              "          docLink.innerHTML = docLinkHtml;\n",
              "          element.appendChild(docLink);\n",
              "        }\n",
              "      </script>\n",
              "    </div>\n",
              "  </div>\n",
              "  "
            ]
          },
          "metadata": {},
          "execution_count": 22
        }
      ]
    },
    {
      "cell_type": "markdown",
      "source": [
        "#### Part 2 : CV Each Algorithms"
      ],
      "metadata": {
        "id": "ycYEGp2ULvCG"
      }
    },
    {
      "cell_type": "markdown",
      "source": [
        "Algorithm performance with various of n-latent factors"
      ],
      "metadata": {
        "id": "zOQjNBbUTwRq"
      }
    },
    {
      "cell_type": "markdown",
      "source": [
        "##### BaselineOnly"
      ],
      "metadata": {
        "id": "J8BBbn1dL4sX"
      }
    },
    {
      "cell_type": "code",
      "source": [
        "# You should now be able to use the data object normally.\n",
        "algo_svd = BaselineOnly()\n",
        "\n",
        "# Run 5-fold cross-validation and then print results\n",
        "cross_validate(algo_svd, data, measures=['MAE','RMSE'], cv=5, verbose=True)"
      ],
      "metadata": {
        "colab": {
          "base_uri": "https://localhost:8080/"
        },
        "id": "NkO1_HzdL7Kl",
        "outputId": "36291caf-4f27-48c6-aa71-7bc15f7144e6"
      },
      "execution_count": null,
      "outputs": [
        {
          "output_type": "stream",
          "name": "stdout",
          "text": [
            "Estimating biases using als...\n",
            "Estimating biases using als...\n",
            "Estimating biases using als...\n",
            "Estimating biases using als...\n",
            "Estimating biases using als...\n",
            "Evaluating MAE, RMSE of algorithm BaselineOnly on 5 split(s).\n",
            "\n",
            "                  Fold 1  Fold 2  Fold 3  Fold 4  Fold 5  Mean    Std     \n",
            "MAE (testset)     0.9009  0.9041  0.9007  0.9042  0.9039  0.9027  0.0016  \n",
            "RMSE (testset)    1.1658  1.1704  1.1681  1.1709  1.1711  1.1693  0.0020  \n",
            "Fit time          3.05    3.87    3.32    3.26    3.61    3.42    0.28    \n",
            "Test time         1.64    1.01    1.58    1.63    1.51    1.47    0.24    \n"
          ]
        },
        {
          "output_type": "execute_result",
          "data": {
            "text/plain": [
              "{'test_mae': array([0.90094643, 0.9040645 , 0.9006567 , 0.9042035 , 0.9038595 ]),\n",
              " 'test_rmse': array([1.16576793, 1.17042515, 1.16811794, 1.17087664, 1.17109574]),\n",
              " 'fit_time': (3.0531158447265625,\n",
              "  3.8689687252044678,\n",
              "  3.3186137676239014,\n",
              "  3.263148069381714,\n",
              "  3.6072030067443848),\n",
              " 'test_time': (1.642256736755371,\n",
              "  1.0081241130828857,\n",
              "  1.5805723667144775,\n",
              "  1.6267049312591553,\n",
              "  1.5149457454681396)}"
            ]
          },
          "metadata": {},
          "execution_count": 24
        }
      ]
    },
    {
      "cell_type": "markdown",
      "source": [
        "##### SVD"
      ],
      "metadata": {
        "id": "mHcy0d02L-CQ"
      }
    },
    {
      "cell_type": "markdown",
      "source": [
        "**10-latent factors**"
      ],
      "metadata": {
        "id": "5qtkmpMOT2Fw"
      }
    },
    {
      "cell_type": "code",
      "source": [
        "# You should now be able to use the data object normally.\n",
        "algo_svd = SVD(n_factors=10, n_epochs=20)\n",
        "\n",
        "# Run 5-fold cross-validation and then print results\n",
        "cross_validate(algo_svd, data, measures=['MAE','RMSE'], cv=5, verbose=True)"
      ],
      "metadata": {
        "colab": {
          "base_uri": "https://localhost:8080/"
        },
        "id": "KKk1sI_6L_IN",
        "outputId": "11edf6df-23f9-4225-daf4-2f3bac090474"
      },
      "execution_count": null,
      "outputs": [
        {
          "output_type": "stream",
          "name": "stdout",
          "text": [
            "Evaluating MAE, RMSE of algorithm SVD on 5 split(s).\n",
            "\n",
            "                  Fold 1  Fold 2  Fold 3  Fold 4  Fold 5  Mean    Std     \n",
            "MAE (testset)     0.8212  0.8244  0.8241  0.8207  0.8201  0.8221  0.0018  \n",
            "RMSE (testset)    1.1073  1.1114  1.1097  1.1037  1.1045  1.1073  0.0029  \n",
            "Fit time          9.82    10.02   9.82    9.43    10.11   9.84    0.23    \n",
            "Test time         1.69    2.43    1.46    1.50    1.35    1.69    0.39    \n"
          ]
        },
        {
          "output_type": "execute_result",
          "data": {
            "text/plain": [
              "{'test_mae': array([0.82121857, 0.82444435, 0.82412823, 0.82070844, 0.82008847]),\n",
              " 'test_rmse': array([1.10725793, 1.11140904, 1.10969781, 1.10374988, 1.10454331]),\n",
              " 'fit_time': (9.822938680648804,\n",
              "  10.021152973175049,\n",
              "  9.81926155090332,\n",
              "  9.433661699295044,\n",
              "  10.11054539680481),\n",
              " 'test_time': (1.694488286972046,\n",
              "  2.426546096801758,\n",
              "  1.4648716449737549,\n",
              "  1.5020370483398438,\n",
              "  1.3465030193328857)}"
            ]
          },
          "metadata": {},
          "execution_count": 26
        }
      ]
    },
    {
      "cell_type": "markdown",
      "source": [
        "**15-latent factors**"
      ],
      "metadata": {
        "id": "uLOz6aCUT8lK"
      }
    },
    {
      "cell_type": "code",
      "source": [
        "# You should now be able to use the data object normally.\n",
        "algo_svd = SVD(n_factors=15, n_epochs=20)\n",
        "\n",
        "# Run 5-fold cross-validation and then print results\n",
        "cross_validate(algo_svd, data, measures=['MAE','RMSE'], cv=5, verbose=True)"
      ],
      "metadata": {
        "colab": {
          "base_uri": "https://localhost:8080/"
        },
        "id": "1eWful-9_ssU",
        "outputId": "4f9b4032-11ac-4138-f60a-e2e2d29ee05e"
      },
      "execution_count": null,
      "outputs": [
        {
          "output_type": "stream",
          "name": "stdout",
          "text": [
            "Evaluating MAE, RMSE of algorithm SVD on 5 split(s).\n",
            "\n",
            "                  Fold 1  Fold 2  Fold 3  Fold 4  Fold 5  Mean    Std     \n",
            "MAE (testset)     0.8173  0.8177  0.8181  0.8142  0.8154  0.8165  0.0015  \n",
            "RMSE (testset)    1.1046  1.1064  1.1031  1.1024  1.1003  1.1034  0.0020  \n",
            "Fit time          9.89    10.02   10.22   9.21    9.89    9.85    0.34    \n",
            "Test time         2.47    1.58    1.53    2.61    1.50    1.94    0.49    \n"
          ]
        },
        {
          "output_type": "execute_result",
          "data": {
            "text/plain": [
              "{'test_mae': array([0.81730399, 0.81765067, 0.81811062, 0.8142021 , 0.81542293]),\n",
              " 'test_rmse': array([1.10456175, 1.10639212, 1.10311986, 1.10244018, 1.10032557]),\n",
              " 'fit_time': (9.886096715927124,\n",
              "  10.021372318267822,\n",
              "  10.221832513809204,\n",
              "  9.214526176452637,\n",
              "  9.89327096939087),\n",
              " 'test_time': (2.4655590057373047,\n",
              "  1.5847172737121582,\n",
              "  1.5345265865325928,\n",
              "  2.6108224391937256,\n",
              "  1.4996764659881592)}"
            ]
          },
          "metadata": {},
          "execution_count": 32
        }
      ]
    },
    {
      "cell_type": "markdown",
      "source": [
        "**20-latent factors**"
      ],
      "metadata": {
        "id": "XM2JMS5ZUCKC"
      }
    },
    {
      "cell_type": "code",
      "source": [
        "# You should now be able to use the data object normally.\n",
        "algo_svd = SVD(n_factors=20, n_epochs=20)\n",
        "\n",
        "# Run 5-fold cross-validation and then print results\n",
        "cross_validate(algo_svd, data, measures=['MAE','RMSE'], cv=5, verbose=True)"
      ],
      "metadata": {
        "colab": {
          "base_uri": "https://localhost:8080/"
        },
        "id": "A9tPhOmG_v_S",
        "outputId": "1a8546d6-3797-498a-ab5b-c062547d35c3"
      },
      "execution_count": null,
      "outputs": [
        {
          "output_type": "stream",
          "name": "stdout",
          "text": [
            "Evaluating MAE, RMSE of algorithm SVD on 5 split(s).\n",
            "\n",
            "                  Fold 1  Fold 2  Fold 3  Fold 4  Fold 5  Mean    Std     \n",
            "MAE (testset)     0.8115  0.8126  0.8136  0.8104  0.8104  0.8117  0.0012  \n",
            "RMSE (testset)    1.1005  1.0998  1.1026  1.0970  1.0981  1.0996  0.0019  \n",
            "Fit time          10.61   9.96    10.78   10.60   10.39   10.47   0.28    \n",
            "Test time         1.27    1.65    2.31    1.55    1.30    1.62    0.37    \n"
          ]
        },
        {
          "output_type": "execute_result",
          "data": {
            "text/plain": [
              "{'test_mae': array([0.81153711, 0.81256833, 0.81358817, 0.81044249, 0.8103982 ]),\n",
              " 'test_rmse': array([1.10051233, 1.09980971, 1.1026162 , 1.09703288, 1.09810824]),\n",
              " 'fit_time': (10.60853362083435,\n",
              "  9.957655906677246,\n",
              "  10.775288820266724,\n",
              "  10.599278688430786,\n",
              "  10.385993480682373),\n",
              " 'test_time': (1.274317979812622,\n",
              "  1.6510553359985352,\n",
              "  2.306246042251587,\n",
              "  1.5467588901519775,\n",
              "  1.3012504577636719)}"
            ]
          },
          "metadata": {},
          "execution_count": 33
        }
      ]
    },
    {
      "cell_type": "markdown",
      "source": [
        "##### SVD++"
      ],
      "metadata": {
        "id": "qZmfebB2L_x2"
      }
    },
    {
      "cell_type": "markdown",
      "source": [
        "**10-latent factors**"
      ],
      "metadata": {
        "id": "lD4feUsZUED_"
      }
    },
    {
      "cell_type": "code",
      "source": [
        "# You should now be able to use the data object normally.\n",
        "algo_svd = SVDpp(n_factors=10, n_epochs=20)\n",
        "\n",
        "# Run 5-fold cross-validation and then print results\n",
        "cross_validate(algo_svd, data, measures=['MAE','RMSE'], cv=5, verbose=True)"
      ],
      "metadata": {
        "colab": {
          "base_uri": "https://localhost:8080/"
        },
        "id": "X3UzyRPnMB4u",
        "outputId": "cf04a74d-3135-47fd-9ba6-b96cb5feb1e3"
      },
      "execution_count": null,
      "outputs": [
        {
          "output_type": "stream",
          "name": "stdout",
          "text": [
            "Evaluating MAE, RMSE of algorithm SVDpp on 5 split(s).\n",
            "\n",
            "                  Fold 1  Fold 2  Fold 3  Fold 4  Fold 5  Mean    Std     \n",
            "MAE (testset)     0.7602  0.7623  0.7575  0.7650  0.7632  0.7616  0.0026  \n",
            "RMSE (testset)    1.0642  1.0648  1.0632  1.0713  1.0681  1.0663  0.0030  \n",
            "Fit time          17.89   18.32   18.62   17.71   17.71   18.05   0.36    \n",
            "Test time         4.27    3.66    5.44    4.09    4.52    4.40    0.59    \n"
          ]
        },
        {
          "output_type": "execute_result",
          "data": {
            "text/plain": [
              "{'test_mae': array([0.7601755 , 0.76225062, 0.75750451, 0.76502323, 0.76324551]),\n",
              " 'test_rmse': array([1.06417672, 1.06483939, 1.06324188, 1.07125225, 1.0680991 ]),\n",
              " 'fit_time': (17.88892364501953,\n",
              "  18.315444231033325,\n",
              "  18.61646318435669,\n",
              "  17.707931756973267,\n",
              "  17.705594539642334),\n",
              " 'test_time': (4.274425268173218,\n",
              "  3.664425849914551,\n",
              "  5.444692373275757,\n",
              "  4.091663837432861,\n",
              "  4.52201509475708)}"
            ]
          },
          "metadata": {},
          "execution_count": 34
        }
      ]
    },
    {
      "cell_type": "markdown",
      "source": [
        "**15-latent factors**"
      ],
      "metadata": {
        "id": "MxXpxRSVUF47"
      }
    },
    {
      "cell_type": "code",
      "source": [
        "# You should now be able to use the data object normally.\n",
        "algo_svd = SVDpp(n_factors=15, n_epochs=20)\n",
        "\n",
        "# Run 5-fold cross-validation and then print results\n",
        "cross_validate(algo_svd, data, measures=['MAE','RMSE'], cv=5, verbose=True)"
      ],
      "metadata": {
        "colab": {
          "base_uri": "https://localhost:8080/"
        },
        "id": "rTRPgx0QEbea",
        "outputId": "d953aabd-cda0-4c23-af42-85f20f7d5d76"
      },
      "execution_count": null,
      "outputs": [
        {
          "output_type": "stream",
          "name": "stdout",
          "text": [
            "Evaluating MAE, RMSE of algorithm SVDpp on 5 split(s).\n",
            "\n",
            "                  Fold 1  Fold 2  Fold 3  Fold 4  Fold 5  Mean    Std     \n",
            "MAE (testset)     0.7561  0.7584  0.7581  0.7562  0.7568  0.7571  0.0009  \n",
            "RMSE (testset)    1.0629  1.0625  1.0646  1.0625  1.0630  1.0631  0.0008  \n",
            "Fit time          20.25   19.31   20.41   20.41   19.86   20.05   0.42    \n",
            "Test time         5.05    4.95    4.25    4.67    4.96    4.78    0.30    \n"
          ]
        },
        {
          "output_type": "execute_result",
          "data": {
            "text/plain": [
              "{'test_mae': array([0.75606951, 0.7584025 , 0.75805688, 0.75623396, 0.75681887]),\n",
              " 'test_rmse': array([1.0629495 , 1.0624772 , 1.06462722, 1.0624529 , 1.0630241 ]),\n",
              " 'fit_time': (20.24809503555298,\n",
              "  19.312570571899414,\n",
              "  20.4114248752594,\n",
              "  20.41402292251587,\n",
              "  19.860302686691284),\n",
              " 'test_time': (5.051048994064331,\n",
              "  4.952303886413574,\n",
              "  4.2452452182769775,\n",
              "  4.665574550628662,\n",
              "  4.963704586029053)}"
            ]
          },
          "metadata": {},
          "execution_count": 35
        }
      ]
    },
    {
      "cell_type": "markdown",
      "source": [
        "**20-latent factors**"
      ],
      "metadata": {
        "id": "fJJLQRkfUHUR"
      }
    },
    {
      "cell_type": "code",
      "source": [
        "# You should now be able to use the data object normally.\n",
        "algo_svd = SVDpp(n_factors=20, n_epochs=20)\n",
        "\n",
        "# Run 5-fold cross-validation and then print results\n",
        "cross_validate(algo_svd, data, measures=['MAE','RMSE'], cv=5, verbose=True)"
      ],
      "metadata": {
        "colab": {
          "base_uri": "https://localhost:8080/"
        },
        "id": "AMtCGR72Ec8O",
        "outputId": "7aa60296-9a46-405a-bf82-16e7852f1bc9"
      },
      "execution_count": null,
      "outputs": [
        {
          "output_type": "stream",
          "name": "stdout",
          "text": [
            "Evaluating MAE, RMSE of algorithm SVDpp on 5 split(s).\n",
            "\n",
            "                  Fold 1  Fold 2  Fold 3  Fold 4  Fold 5  Mean    Std     \n",
            "MAE (testset)     0.7516  0.7495  0.7548  0.7564  0.7528  0.7530  0.0024  \n",
            "RMSE (testset)    1.0588  1.0567  1.0631  1.0653  1.0599  1.0607  0.0031  \n",
            "Fit time          22.46   23.66   23.36   23.30   24.44   23.44   0.64    \n",
            "Test time         3.75    4.16    5.57    4.21    4.49    4.44    0.61    \n"
          ]
        },
        {
          "output_type": "execute_result",
          "data": {
            "text/plain": [
              "{'test_mae': array([0.75162201, 0.74952757, 0.75476661, 0.7563873 , 0.75276126]),\n",
              " 'test_rmse': array([1.05878035, 1.05671698, 1.0630599 , 1.06528199, 1.05988617]),\n",
              " 'fit_time': (22.45629906654358,\n",
              "  23.65826106071472,\n",
              "  23.355494260787964,\n",
              "  23.295533418655396,\n",
              "  24.441720724105835),\n",
              " 'test_time': (3.748339891433716,\n",
              "  4.16366720199585,\n",
              "  5.5676727294921875,\n",
              "  4.206966161727905,\n",
              "  4.494403600692749)}"
            ]
          },
          "metadata": {},
          "execution_count": 36
        }
      ]
    },
    {
      "cell_type": "markdown",
      "source": [
        "##### NMF"
      ],
      "metadata": {
        "id": "4H8IJeIzMDP1"
      }
    },
    {
      "cell_type": "markdown",
      "source": [
        "**10-latent factors**"
      ],
      "metadata": {
        "id": "1Fa7zA4wUJPO"
      }
    },
    {
      "cell_type": "code",
      "source": [
        "# You should now be able to use the data object normally.\n",
        "algo_svd = NMF(n_factors=10, n_epochs=20)\n",
        "\n",
        "# Run 5-fold cross-validation and then print results\n",
        "cross_validate(algo_svd, data, measures=['MAE','RMSE'], cv=5, verbose=True)"
      ],
      "metadata": {
        "colab": {
          "base_uri": "https://localhost:8080/"
        },
        "id": "Olk5KphqMEuf",
        "outputId": "93f9e364-da6f-4c6a-c411-df010667b617"
      },
      "execution_count": null,
      "outputs": [
        {
          "output_type": "stream",
          "name": "stdout",
          "text": [
            "Evaluating MAE, RMSE of algorithm NMF on 5 split(s).\n",
            "\n",
            "                  Fold 1  Fold 2  Fold 3  Fold 4  Fold 5  Mean    Std     \n",
            "MAE (testset)     1.1767  1.1697  1.1727  1.1783  1.1785  1.1752  0.0034  \n",
            "RMSE (testset)    1.4041  1.3959  1.3981  1.4050  1.4064  1.4019  0.0041  \n",
            "Fit time          16.50   17.33   17.47   17.06   16.61   16.99   0.38    \n",
            "Test time         2.24    1.41    1.46    1.93    1.20    1.65    0.38    \n"
          ]
        },
        {
          "output_type": "execute_result",
          "data": {
            "text/plain": [
              "{'test_mae': array([1.17668641, 1.16971636, 1.1726547 , 1.1782718 , 1.17849025]),\n",
              " 'test_rmse': array([1.40413706, 1.39591353, 1.39805322, 1.4050201 , 1.40643069]),\n",
              " 'fit_time': (16.50354266166687,\n",
              "  17.32519268989563,\n",
              "  17.46797776222229,\n",
              "  17.062549829483032,\n",
              "  16.612942218780518),\n",
              " 'test_time': (2.239612579345703,\n",
              "  1.4132637977600098,\n",
              "  1.462320327758789,\n",
              "  1.9275424480438232,\n",
              "  1.1950640678405762)}"
            ]
          },
          "metadata": {},
          "execution_count": 37
        }
      ]
    },
    {
      "cell_type": "markdown",
      "source": [
        "**15-latent factors**"
      ],
      "metadata": {
        "id": "vgsNCDc8ULBS"
      }
    },
    {
      "cell_type": "code",
      "source": [
        "# You should now be able to use the data object normally.\n",
        "algo_svd = NMF(n_factors=15, n_epochs=20)\n",
        "\n",
        "# Run 5-fold cross-validation and then print results\n",
        "cross_validate(algo_svd, data, measures=['MAE','RMSE'], cv=5, verbose=True)"
      ],
      "metadata": {
        "colab": {
          "base_uri": "https://localhost:8080/"
        },
        "id": "Pm4e9cMEHNoV",
        "outputId": "40d6b701-5fcb-4a99-fd2d-407ce52d8bc3"
      },
      "execution_count": null,
      "outputs": [
        {
          "output_type": "stream",
          "name": "stdout",
          "text": [
            "Evaluating MAE, RMSE of algorithm NMF on 5 split(s).\n",
            "\n",
            "                  Fold 1  Fold 2  Fold 3  Fold 4  Fold 5  Mean    Std     \n",
            "MAE (testset)     0.8698  0.8664  0.8610  0.8675  0.8636  0.8656  0.0030  \n",
            "RMSE (testset)    1.1773  1.1745  1.1716  1.1767  1.1682  1.1737  0.0034  \n",
            "Fit time          19.10   18.88   19.90   18.90   19.07   19.17   0.38    \n",
            "Test time         1.34    1.48    1.35    2.62    1.80    1.72    0.48    \n"
          ]
        },
        {
          "output_type": "execute_result",
          "data": {
            "text/plain": [
              "{'test_mae': array([0.86975975, 0.8664062 , 0.8610225 , 0.86745974, 0.8635851 ]),\n",
              " 'test_rmse': array([1.17725585, 1.17453196, 1.1716367 , 1.17667671, 1.16817812]),\n",
              " 'fit_time': (19.099560022354126,\n",
              "  18.880439043045044,\n",
              "  19.903969287872314,\n",
              "  18.898622035980225,\n",
              "  19.073710680007935),\n",
              " 'test_time': (1.3390612602233887,\n",
              "  1.4789142608642578,\n",
              "  1.3547444343566895,\n",
              "  2.6150949001312256,\n",
              "  1.8001065254211426)}"
            ]
          },
          "metadata": {},
          "execution_count": 40
        }
      ]
    },
    {
      "cell_type": "markdown",
      "source": [
        "**20-latent factors**"
      ],
      "metadata": {
        "id": "AJWl3v51UMt3"
      }
    },
    {
      "cell_type": "code",
      "source": [
        "# You should now be able to use the data object normally.\n",
        "algo_svd = NMF(n_factors=20, n_epochs=20)\n",
        "\n",
        "# Run 5-fold cross-validation and then print results\n",
        "cross_validate(algo_svd, data, measures=['MAE','RMSE'], cv=5, verbose=True)"
      ],
      "metadata": {
        "colab": {
          "base_uri": "https://localhost:8080/"
        },
        "id": "7bVtBZqIHQtt",
        "outputId": "12cbd756-6133-4dd8-8666-69793b744043"
      },
      "execution_count": null,
      "outputs": [
        {
          "output_type": "stream",
          "name": "stdout",
          "text": [
            "Evaluating MAE, RMSE of algorithm NMF on 5 split(s).\n",
            "\n",
            "                  Fold 1  Fold 2  Fold 3  Fold 4  Fold 5  Mean    Std     \n",
            "MAE (testset)     0.7302  0.7311  0.7320  0.7325  0.7295  0.7311  0.0011  \n",
            "RMSE (testset)    1.1208  1.1191  1.1224  1.1231  1.1169  1.1205  0.0023  \n",
            "Fit time          22.21   22.78   22.66   23.48   21.75   22.58   0.58    \n",
            "Test time         2.21    1.30    1.38    1.32    1.84    1.61    0.36    \n"
          ]
        },
        {
          "output_type": "execute_result",
          "data": {
            "text/plain": [
              "{'test_mae': array([0.73018548, 0.73112803, 0.73203248, 0.73248327, 0.72947123]),\n",
              " 'test_rmse': array([1.12078889, 1.11914394, 1.12243038, 1.1231008 , 1.11685605]),\n",
              " 'fit_time': (22.207026481628418,\n",
              "  22.783040761947632,\n",
              "  22.66493582725525,\n",
              "  23.48246955871582,\n",
              "  21.746458292007446),\n",
              " 'test_time': (2.2104716300964355,\n",
              "  1.2983524799346924,\n",
              "  1.3811686038970947,\n",
              "  1.3208885192871094,\n",
              "  1.8438341617584229)}"
            ]
          },
          "metadata": {},
          "execution_count": 41
        }
      ]
    }
  ]
}